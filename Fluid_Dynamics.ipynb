{
  "nbformat": 4,
  "nbformat_minor": 0,
  "metadata": {
    "kernelspec": {
      "display_name": "Python 3",
      "language": "python",
      "name": "python3"
    },
    "language_info": {
      "codemirror_mode": {
        "name": "ipython",
        "version": 3
      },
      "file_extension": ".py",
      "mimetype": "text/x-python",
      "name": "python",
      "nbconvert_exporter": "python",
      "pygments_lexer": "ipython3",
      "version": "3.8.5"
    },
    "varInspector": {
      "cols": {
        "lenName": 16,
        "lenType": 16,
        "lenVar": 40
      },
      "kernels_config": {
        "python": {
          "delete_cmd_postfix": "",
          "delete_cmd_prefix": "del ",
          "library": "var_list.py",
          "varRefreshCmd": "print(var_dic_list())"
        },
        "r": {
          "delete_cmd_postfix": ") ",
          "delete_cmd_prefix": "rm(",
          "library": "var_list.r",
          "varRefreshCmd": "cat(var_dic_list()) "
        }
      },
      "types_to_exclude": [
        "module",
        "function",
        "builtin_function_or_method",
        "instance",
        "_Feature"
      ],
      "window_display": false
    },
    "colab": {
      "provenance": [],
      "collapsed_sections": [
        "P52dpySoZkZL",
        "ALeMhth2ZkaR",
        "8a3i9BdxZkaT",
        "WmLQ9vWTZkay"
      ]
    }
  },
  "cells": [
    {
      "cell_type": "markdown",
      "metadata": {
        "id": "7PuR-237ZkXg"
      },
      "source": [
        "![header.png](https://courses.physics.illinois.edu/phys246/fa2020/code/images/FD/fluid_header.png)"
      ]
    },
    {
      "cell_type": "markdown",
      "metadata": {
        "id": "lG_E0wMeZkXj"
      },
      "source": [
        "# Fluid Dynamics"
      ]
    },
    {
      "cell_type": "markdown",
      "metadata": {
        "id": "e0p86wqOZkXm"
      },
      "source": [
        "* **Author:** June Vanlerberghe\n",
        "\n",
        "* **Date:** October 22, 2020\n",
        "\n",
        "* **Time spent on this assignment:** 5 hours"
      ]
    },
    {
      "cell_type": "code",
      "metadata": {
        "code_folding": [
          7,
          20
        ],
        "id": "O1WD6mA_ZkX8"
      },
      "source": [
        "import numpy as np\n",
        "import matplotlib.pyplot as plt\n",
        "import math\n",
        "from matplotlib.animation import FuncAnimation\n",
        "import itertools\n",
        "from IPython.display import HTML\n",
        "import pickle\n",
        "def resetMe(keepList=[]):\n",
        "    ll=%who_ls\n",
        "    keepList=keepList+['resetMe','np','plt','math','FuncAnimation',\n",
        "                       'HTML','itertools','pickle','testFunc']\n",
        "    for iiii in keepList:\n",
        "        if iiii in ll:\n",
        "            ll.remove(iiii)\n",
        "    for iiii in ll:\n",
        "        jjjj=\"^\"+iiii+\"$\"\n",
        "        %reset_selective -f {jjjj}\n",
        "    ll=%who_ls\n",
        "    return\n",
        "\n",
        "def testFunc(func,inFiles,outFiles):\n",
        "    inputs  = [pickle.load(open(f,\"rb\")) for f in inFiles]\n",
        "    outputs = [pickle.load(open(f,\"rb\")) for f in outFiles]\n",
        "    result  = func(*inputs)\n",
        "    allGood = True\n",
        "    if not isinstance(result, tuple): result = (result,)\n",
        "    for i in range(len(outputs)):\n",
        "        if np.max(np.abs(result[i]-outputs[i])) > 1e-14:\n",
        "            print(\"Failed test for\",outFiles[i],i,\"max_error=\",np.max(np.abs(result[i]-outputs[i])))\n",
        "            allGood = False\n",
        "    if allGood: print(\"Test Passed!\")\n",
        "    else:       print(\"Test Failed :(\")"
      ],
      "execution_count": null,
      "outputs": []
    },
    {
      "cell_type": "markdown",
      "metadata": {
        "id": "fMx5kFvYZkYE"
      },
      "source": [
        "Download the test files here, or download from the website and upload & unzip them to wherever this notebook file is"
      ]
    },
    {
      "cell_type": "code",
      "metadata": {
        "id": "-iN0kfJiZkYH",
        "colab": {
          "base_uri": "https://localhost:8080/",
          "height": 411
        },
        "outputId": "4b4b8710-1059-4084-ad38-0aa69c865b9c"
      },
      "source": [
        "!wget https://courses.physics.illinois.edu/phys246/fa2020/code/TestFiles.zip && unzip TestFiles.zip"
      ],
      "execution_count": null,
      "outputs": [
        {
          "output_type": "stream",
          "text": [
            "--2020-10-22 21:02:14--  https://courses.physics.illinois.edu/phys246/fa2020/code/TestFiles.zip\n",
            "Resolving courses.physics.illinois.edu (courses.physics.illinois.edu)... 130.126.151.14\n",
            "Connecting to courses.physics.illinois.edu (courses.physics.illinois.edu)|130.126.151.14|:443... connected.\n",
            "HTTP request sent, awaiting response... 200 OK\n",
            "Length: 53041362 (51M) [application/x-zip-compressed]\n",
            "Saving to: ‘TestFiles.zip.1’\n",
            "\n",
            "TestFiles.zip.1     100%[===================>]  50.58M  12.9MB/s    in 6.6s    \n",
            "\n",
            "2020-10-22 21:02:22 (7.67 MB/s) - ‘TestFiles.zip.1’ saved [53041362/53041362]\n",
            "\n",
            "Archive:  TestFiles.zip\n",
            "replace Microscopic_after_move.dat? [y]es, [n]o, [A]ll, [N]one, [r]ename: n\n",
            "replace Microscopic.dat? [y]es, [n]o, [A]ll, [N]one, [r]ename: n\n",
            "replace rho_after_Micro2Macro.dat? [y]es, [n]o, [A]ll, [N]one, [r]ename: n\n",
            "replace Microscopic_after_bounce.dat? [y]es, [n]o, [A]ll, [N]one, [r]ename: n\n",
            "replace Microscopic2.dat? [y]es, [n]o, [A]ll, [N]one, [r]ename: n\n",
            "replace Microscopic_after_moveDensity.dat? [y]es, [n]o, [A]ll, [N]one, [r]ename: n\n",
            "replace Microscopic_after_boundary.dat? [y]es, [n]o, [A]ll, [N]one, [r]ename: n\n",
            "replace u_after_Micro2Macro.dat? [y]es, [n]o, [A]ll, [N]one, [r]ename: n\n",
            "replace Microscopic_after_collision.dat? [y]es, [n]o, [A]ll, [N]one, [r]ename: n\n",
            "replace Microscopic_after_equilibrium.dat? [y]es, [n]o, [A]ll, [N]one, [r]ename: n\n"
          ],
          "name": "stdout"
        }
      ]
    },
    {
      "cell_type": "markdown",
      "metadata": {
        "id": "goMj2vBLZkYP"
      },
      "source": [
        "## Python Warmup"
      ]
    },
    {
      "cell_type": "markdown",
      "metadata": {
        "id": "zkO5hKyEZkYQ"
      },
      "source": [
        "### Useful functions:"
      ]
    },
    {
      "cell_type": "markdown",
      "metadata": {
        "id": "ALRD54IvZkYQ"
      },
      "source": [
        "Before we begin, we want to highlight some functions that you may find useful in this assignment. The last one we'll explore in more depth as well.\n",
        "* `np.zeros([dimensions])` - create an array filled with all zeros.\n",
        "    *Ex: `n = np.zeros([9,10,10])` creates a (9,10,10) array of all zeros\n",
        "* `np.ones([dimensions])` - same thing as `np.zeros` but with all ones.\n",
        "* `np.empty([dimensoons])` - same thing as `np,zeros` but fills array with garbage. Very fast compared to the above.\n",
        "* `np.roll(x,shift,axis)` - shift array `x` by `shift` along `axis`."
      ]
    },
    {
      "cell_type": "markdown",
      "metadata": {
        "id": "B7W36PHcZkYR"
      },
      "source": [
        "### Warmup - using `np.roll`"
      ]
    },
    {
      "cell_type": "markdown",
      "metadata": {
        "id": "9m-Nq-gdZkYS"
      },
      "source": [
        "Something we'll see later in this assignment is the need to shift elements right,left,up,down, and diagonally. Let's make a little test problem to illustrate how this works."
      ]
    },
    {
      "cell_type": "code",
      "metadata": {
        "id": "XjbOZMXwZkYS",
        "colab": {
          "base_uri": "https://localhost:8080/",
          "height": 68
        },
        "outputId": "bde5a082-46b4-45db-b036-f85322567e68"
      },
      "source": [
        "# Run me!\n",
        "x = np.arange(15).reshape(3,5)\n",
        "print(x)"
      ],
      "execution_count": null,
      "outputs": [
        {
          "output_type": "stream",
          "text": [
            "[[ 0  1  2  3  4]\n",
            " [ 5  6  7  8  9]\n",
            " [10 11 12 13 14]]\n"
          ],
          "name": "stdout"
        }
      ]
    },
    {
      "cell_type": "markdown",
      "metadata": {
        "id": "OxZ7Ru7RZkYb"
      },
      "source": [
        "Now we'll want to shift every element in `x` to the right, where we wrap everything around the edge. Rather than figuring this out with a for loop, we'll employ `np.roll` to do it fast!"
      ]
    },
    {
      "cell_type": "code",
      "metadata": {
        "id": "Yi2sWr-oZkYc",
        "colab": {
          "base_uri": "https://localhost:8080/",
          "height": 136
        },
        "outputId": "e3299c6a-dea5-4602-f6e9-bfbb1823e9b6"
      },
      "source": [
        "print(x,'\\n')\n",
        "print(np.roll(x,(0,1),(0,1)))"
      ],
      "execution_count": null,
      "outputs": [
        {
          "output_type": "stream",
          "text": [
            "[[ 0  1  2  3  4]\n",
            " [ 5  6  7  8  9]\n",
            " [10 11 12 13 14]] \n",
            "\n",
            "[[ 4  0  1  2  3]\n",
            " [ 9  5  6  7  8]\n",
            " [14 10 11 12 13]]\n"
          ],
          "name": "stdout"
        }
      ]
    },
    {
      "cell_type": "markdown",
      "metadata": {
        "id": "VOXccGtYZkYg"
      },
      "source": [
        "Now let's disect that command. The first `(0,1)` means don't shift the \"y\" direction, and to shift the \"x\" direction by +1. The next command `(0,1)` means to apply the shift to the two axes.  \n",
        "Now let's go left:"
      ]
    },
    {
      "cell_type": "markdown",
      "metadata": {
        "id": "yitjkDYvOCBt"
      },
      "source": [
        "second argument will always be (0,1) for this assignment"
      ]
    },
    {
      "cell_type": "code",
      "metadata": {
        "id": "nygrId-5ZkYg",
        "colab": {
          "base_uri": "https://localhost:8080/",
          "height": 136
        },
        "outputId": "a5933df1-330c-445a-90d5-ce5ee9bf37e6"
      },
      "source": [
        "print(x,'\\n')\n",
        "print(np.roll(x,(0,-1),(0,1)))"
      ],
      "execution_count": null,
      "outputs": [
        {
          "output_type": "stream",
          "text": [
            "[[ 0  1  2  3  4]\n",
            " [ 5  6  7  8  9]\n",
            " [10 11 12 13 14]] \n",
            "\n",
            "[[ 1  2  3  4  0]\n",
            " [ 6  7  8  9  5]\n",
            " [11 12 13 14 10]]\n"
          ],
          "name": "stdout"
        }
      ]
    },
    {
      "cell_type": "markdown",
      "metadata": {
        "id": "h18cZMCQZkYm"
      },
      "source": [
        "---\n",
        "🦉 Now we'll try to implement a section of the Cha-Cha Slide([Lyrics](https://genius.com/Dj-casper-cha-cha-slide-lyrics))\n",
        "```\n",
        "♫Now it's time to get funky\n",
        "To the right now, to the left\n",
        "Take it back now y'all♪\n",
        "```\n",
        "\n",
        "Make your `x` array go right, then left, then \"down\". Your output should be:\n",
        "```\n",
        "[[ 4  0  1  2  3]\n",
        " [ 9  5  6  7  8]\n",
        " [14 10 11 12 13]]\n",
        "[[ 1  2  3  4  0]\n",
        " [ 6  7  8  9  5]\n",
        " [11 12 13 14 10]]\n",
        "[[ 5  6  7  8  9]\n",
        " [10 11 12 13 14]\n",
        " [ 0  1  2  3  4]]\n",
        "```\n",
        "(Notice how down isn't what you may expect...)"
      ]
    },
    {
      "cell_type": "code",
      "metadata": {
        "id": "x4f0R0QLZkYm",
        "colab": {
          "base_uri": "https://localhost:8080/",
          "height": 238
        },
        "outputId": "66aaf28f-6d30-4056-a6c1-23f7f459b637"
      },
      "source": [
        "print(x, '\\n')\n",
        "print(np.roll(x, (0, 1), (0,1)))\n",
        "print(np.roll(x, (0, -1), (0,1)))\n",
        "print(np.roll(x, (-1, 0), (0,1)))\n",
        "#np.roll wraps the opposite way: so when moving down, it looks like its going up\n",
        "#when vel is negative, wrap it with 1"
      ],
      "execution_count": null,
      "outputs": [
        {
          "output_type": "stream",
          "text": [
            "[[ 0  1  2  3  4]\n",
            " [ 5  6  7  8  9]\n",
            " [10 11 12 13 14]] \n",
            "\n",
            "[[ 4  0  1  2  3]\n",
            " [ 9  5  6  7  8]\n",
            " [14 10 11 12 13]]\n",
            "[[ 1  2  3  4  0]\n",
            " [ 6  7  8  9  5]\n",
            " [11 12 13 14 10]]\n",
            "[[ 5  6  7  8  9]\n",
            " [10 11 12 13 14]\n",
            " [ 0  1  2  3  4]]\n"
          ],
          "name": "stdout"
        }
      ]
    },
    {
      "cell_type": "markdown",
      "metadata": {
        "id": "8VuzWfa_ZkYq"
      },
      "source": [
        "🦉In a special version of the song, the next line goes\n",
        "```\n",
        "♫ Take it diagonally up and to the right now y'all\n",
        "```\n",
        "Implement this array move, you should get:\n",
        "```\n",
        "[[14 10 11 12 13]\n",
        " [ 4  0  1  2  3]\n",
        " [ 9  5  6  7  8]]\n",
        " ```"
      ]
    },
    {
      "cell_type": "code",
      "metadata": {
        "id": "fnsWxq4gZkYr",
        "colab": {
          "base_uri": "https://localhost:8080/",
          "height": 139
        },
        "outputId": "42529a5c-9432-4ebd-adee-00cd1b65c54a"
      },
      "source": [
        "print(x, '\\n')\n",
        "print(np.roll(x, (1, 1), (0, 1)))"
      ],
      "execution_count": null,
      "outputs": [
        {
          "output_type": "stream",
          "text": [
            "[[ 0  1  2  3  4]\n",
            " [ 5  6  7  8  9]\n",
            " [10 11 12 13 14]] \n",
            "\n",
            "[[14 10 11 12 13]\n",
            " [ 4  0  1  2  3]\n",
            " [ 9  5  6  7  8]]\n"
          ],
          "name": "stdout"
        }
      ]
    },
    {
      "cell_type": "markdown",
      "metadata": {
        "id": "u3i4MPL8ZkYu"
      },
      "source": [
        "Now you're a ~~Cha-Cha Slide~~ `np.roll` expert!"
      ]
    },
    {
      "cell_type": "markdown",
      "metadata": {
        "id": "X0VIfKnnZkYv"
      },
      "source": [
        "## Exercise 1: Fluid Dynamics"
      ]
    },
    {
      "cell_type": "markdown",
      "metadata": {
        "id": "2EhVU8DOZkYv"
      },
      "source": [
        "* **List of collaborators:**\n",
        "\n",
        "* **References you used in developing your code:**"
      ]
    },
    {
      "cell_type": "markdown",
      "metadata": {
        "id": "Lpj-FD8nZkYy"
      },
      "source": [
        "In this assignment you will produce a fluid dynamics simulations.  We are going to develop a number of functions which you will store in the cell below (as well as some global variables that we will use throughout this exercise)."
      ]
    },
    {
      "cell_type": "code",
      "metadata": {
        "id": "FxON13IkZkY0"
      },
      "source": [
        "### global variables and functions\n",
        "### function-cell - put everything in here!\n",
        "nx=520; ny=180 #size of our simulation\n",
        "\n",
        "def GenerateCylinderObstacle():\n",
        "  obstacle = np.empty((nx, ny), dtype = 'bool')\n",
        "  obstacle[:, :] = False\n",
        "  for x in range(nx):\n",
        "    for y in range(ny):\n",
        "      if ((x-nx/4)**2 + (y-ny/2)**2) < (ny/9)**2:\n",
        "        obstacle[x, y] = True\n",
        "      else:\n",
        "        obstacle[x, y] = False\n",
        "  return obstacle\n",
        "\n",
        "v=np.zeros((9,2),dtype='int')\n",
        "v[0,:]=[0,0]\n",
        "v[1,:]=[0,1]\n",
        "v[2,:]=[0,-1]\n",
        "v[3,:]=[1,0]\n",
        "v[4,:]=[-1,0]\n",
        "v[5,:]=[-1,-1]\n",
        "v[6,:]=[-1,1]\n",
        "v[7,:]=[1,-1]\n",
        "v[8,:]=[1,1]"
      ],
      "execution_count": null,
      "outputs": []
    },
    {
      "cell_type": "markdown",
      "metadata": {
        "id": "fklxPXXXZkY8"
      },
      "source": [
        "<div class=\"alert alert-danger\" style=\"color:black\">\n",
        "\n",
        "If you have a function that takes in an array <code>n</code>, always make a new variable to return:\n",
        "```python\n",
        "def doMath(n):\n",
        "    # nout = n.copy() #notice the .copy(), so that they aren't the same object\n",
        "    nout = 2*n+5\n",
        "    return nout\n",
        "```\n",
        "\n",
        "</div>"
      ]
    },
    {
      "cell_type": "markdown",
      "metadata": {
        "id": "z7Z7njEWZkY9"
      },
      "source": [
        "### a.  Making some obstacles"
      ]
    },
    {
      "cell_type": "markdown",
      "metadata": {
        "id": "h3InjWgnZkY9"
      },
      "source": [
        "To simulate the real world on the computer, we'll break the tunnel into $n_x\\times n_y$ squares which we'll call *voxels*.  \n",
        "\n",
        "\n",
        "Your simulation will be doing fluid dynamics in a $n_x \\times n_y$ \"tunnel\" which has some objects within it.  These objects will be represented by a boolean $n_x \\times n_y$ size array `obstacle=np.empty((nx,ny),dtype='bool')` which should be `True` where the obstacle is and `False` otherwise. For example,\n",
        "```python\n",
        "obstacle[:,:]=False\n",
        "obstacle[50:70,50:70]=True\n",
        "```\n",
        "would set up a square $20 \\times 20$ object inside our tunnel.\n",
        "\n",
        "🦉Add a `GenerateCylinderObstacle()`  function to the \"function-cell\" above which generates a object which is a cylinder located at $(n_x/4,n_y/2)$ with a radius of $n_y/9$\n",
        "\n",
        "If you do `plt.matshow(GenerateCylinderObstacle())` it should look like this\n",
        "\n",
        "![cylinder obstacle](https://courses.physics.illinois.edu/phys246/fa2020/code/images/FD/cyl_obstacle.png)\n"
      ]
    },
    {
      "cell_type": "markdown",
      "metadata": {
        "id": "SeaaXdeaZkY-"
      },
      "source": [
        "<div class=\"alert alert-warning\" style=\"color:black\">\n",
        "<h3><b>Do not use the word <code>object</code> as a variable!</b></h3>\n",
        "Notice how <code>object</code> is green in a cell - this means it is a special keyword.<br />\n",
        "</div>"
      ]
    },
    {
      "cell_type": "markdown",
      "metadata": {
        "id": "Wvij38a7ZkY_"
      },
      "source": [
        "#### Test:"
      ]
    },
    {
      "cell_type": "code",
      "metadata": {
        "id": "noi0NjU6ZkY_",
        "colab": {
          "base_uri": "https://localhost:8080/",
          "height": 295
        },
        "outputId": "dddc02b4-6a23-4fe1-9caa-8de7a4d3a592"
      },
      "source": [
        "## Call your function here to see if if works.\n",
        "plt.matshow(GenerateCylinderObstacle().transpose())\n",
        "plt.title(\"Circle!\")\n",
        "plt.xlabel('nx')\n",
        "plt.ylabel('ny')\n",
        "plt.show()"
      ],
      "execution_count": null,
      "outputs": [
        {
          "output_type": "display_data",
          "data": {
            "image/png": "[encoded data removed]",
            "text/plain": [
              "<Figure size 832x288 with 1 Axes>"
            ]
          },
          "metadata": {
            "tags": [],
            "needs_background": "light"
          }
        }
      ]
    },
    {
      "cell_type": "markdown",
      "metadata": {
        "id": "MYMbioCQZkZD"
      },
      "source": [
        "## b.  Microscopic velocities $v_i$"
      ]
    },
    {
      "cell_type": "markdown",
      "metadata": {
        "id": "UmEtlr8zZkZF"
      },
      "source": [
        "To simulate the real world on the computer, we'll break the tunnel into $n_x\\times n_y$ squares which we'll call *voxels*.\n",
        "\n",
        "The key quantity in your simulation is  nine microscopic degrees of freedom\n",
        "* $n_k(i,j)$ where $0\\leq k \\leq 8$ and $(i,j)$ are over the $n_x \\times n_y$ voxels of your simulation\n",
        "\n",
        "which are going to be nine different densities (for each voxel $(i,j)$) which correspond to the density of a fluid at $(i,j)$ moving in nine different directions (or velocities $v_k$):\n",
        "* $n_0$: stationary fluid moving at velocity $v_0=(0,0)$\n",
        "* $n_1$: fluid moving up moving at velocity $v_1=(0,1)$\n",
        "* $n_2$: fluid moving down at velocity $v_2=(0,-1)$\n",
        "* $n_3$: fluid moving right at velocity $v_3=(1,0)$\n",
        "* $n_4$: fluid moving left at velocity $v_4=(-1,0)$\n",
        "* $n_5$: fluid moving left-down at velocity $v_5=(-1,-1)$\n",
        "* $n_6$: fluid moving left-up at velocity $v_6=(-1,1)$\n",
        "* $n_7$: fluid moving right-down at velocity $v_7=(1,-1)$\n",
        "* $n_8$: fluid moving right-up at velocity $v_8=(1,1)$\n",
        "    \n",
        "It will be useful to have access to these microscopic velocities as global variables.  🦉**Go ahead and add to the top of your \"function-cell\" the various velocities:**\n",
        "```python\n",
        "v=np.zeros((9,2),dtype='int')\n",
        "v[0,:]=[0,0]\n",
        "v[1,:]=[0,1]\n",
        "...\n",
        "```\n",
        "\n",
        "**Plot these (below) as**\n",
        "```python\n",
        "for i in range(0,9):\n",
        "    plt.arrow(0,0,v[i,0],v[i,1],head_width=0.05, head_length=0.1, fc='k', ec='k')\n",
        "plt.xlim(-1.2,1.2)\n",
        "plt.ylim(-1.2,1.2)\n",
        "plt.show()\n",
        "```\n",
        "and make sure it looks like\n",
        "![velocity arrows](https://courses.physics.illinois.edu/phys246/fa2020/code/images/FD/velocity_arrows.png)"
      ]
    },
    {
      "cell_type": "markdown",
      "metadata": {
        "id": "kuYztidCZkZF"
      },
      "source": [
        "#### Test:"
      ]
    },
    {
      "cell_type": "code",
      "metadata": {
        "code_folding": [],
        "id": "mhSpbVXeZkZG",
        "colab": {
          "base_uri": "https://localhost:8080/",
          "height": 265
        },
        "outputId": "a1df833d-6cd8-4eb2-e181-f2e086cb8494"
      },
      "source": [
        "## Plot your microscopic velocities\n",
        "\n",
        "for i in range(0,9):\n",
        "    plt.arrow(0,0,v[i,0],v[i,1],head_width=0.05, head_length=0.1, fc='k', ec='k')\n",
        "plt.xlim(-1.2,1.2)\n",
        "plt.ylim(-1.2,1.2)\n",
        "plt.show()"
      ],
      "execution_count": null,
      "outputs": [
        {
          "output_type": "display_data",
          "data": {
            "image/png": "[encoded data removed]",
            "text/plain": [
              "<Figure size 432x288 with 1 Axes>"
            ]
          },
          "metadata": {
            "tags": [],
            "needs_background": "light"
          }
        }
      ]
    },
    {
      "cell_type": "markdown",
      "metadata": {
        "id": "998AbL5CZkZJ"
      },
      "source": [
        "We will represent the microscopic densities by a variable\n",
        "* `n=np.zeros(9,nx,ny)`\n",
        "\n",
        "\n",
        "The high level algorithm for fluid dynamics is very simple.  After setting up the initial conditions, we loop many times doing\n",
        "* Adjust boundary conditions\n",
        "* Collide the microscopic densities\n",
        "* Move the microscopic densities\n"
      ]
    },
    {
      "cell_type": "markdown",
      "metadata": {
        "id": "jFmaek0CZkZK"
      },
      "source": [
        "### c. Computing macroscopic quantities from the microscopic density"
      ]
    },
    {
      "cell_type": "markdown",
      "metadata": {
        "id": "4APCo_QhZkZK"
      },
      "source": [
        "Given the microscopic densities, there are two macroscopic quanties:\n",
        "* the macroscopic density $\\rho(i,j)=\\sum_k n_k$ (*size: $n_x \\times n_y$*)\n",
        "* the macroscopic velocity $\\vec{u}(i,j) \\equiv (u_x(i,j),u_y(i,j)$ (*size: $2 \\times n_x \\times n_y$*) where\n",
        "    * $u_x(i,j) = 1/\\rho \\sum_k v_{k,x}\\, n_k(i,j)$\n",
        "    * $u_y(i,j) = 1/\\rho \\sum_k v_{k,y}\\, n_k(i,J)$\n",
        "\n",
        "which you will compute using the function (you will write) `(rho,u) = Micro2Macro(n)`\n",
        "\n",
        "🦉Go ahead and write this function and add it to your 'function-cell'\n",
        "\n",
        "You can test it using these lines of code:\n",
        "```python\n",
        "testFunc(Micro2Macro,[\"Microscopic.dat\"],[\"rho_after_Micro2Macro.dat\",\"u_after_Micro2Macro.dat\"])\n",
        "```\n",
        "and see if it print two zeros (which is a success!)"
      ]
    },
    {
      "cell_type": "markdown",
      "metadata": {
        "id": "Ei3wmgTMZkZL"
      },
      "source": [
        "**Tip:** Because `u` is $(2,n_x,n_y)$, we can get `ux` by doing `u[0]` (which is then a $(n_x,n_y)$ array) and `uy` by doing `u[1]`."
      ]
    },
    {
      "cell_type": "code",
      "metadata": {
        "id": "KrkOfH86VzVJ"
      },
      "source": [
        "def Micro2Macro(n):\n",
        "  rho = np.sum(n,axis = 0)\n",
        "  uy = (1/rho)*(n[1,:,:]+n[6,:,:]+n[8,:,:]-n[2,:,:]-n[5,:,:]-n[7,:,:])\n",
        "  ux = (1/rho)*(n[3,:,:]+n[7,:,:]+n[8,:,:]-n[4,:,:]-n[5,:,:]-n[6,:,:])\n",
        "  u = (ux,uy)\n",
        "  return rho, u"
      ],
      "execution_count": null,
      "outputs": []
    },
    {
      "cell_type": "markdown",
      "metadata": {
        "heading_collapsed": true,
        "id": "P52dpySoZkZL"
      },
      "source": [
        "#### optional - `np.einsum`"
      ]
    },
    {
      "cell_type": "markdown",
      "metadata": {
        "hidden": true,
        "id": "nchOGvycZkZM"
      },
      "source": [
        "Figuring out the summations effeciently can be a pain, but we can use [`np.einsum`](https://docs.scipy.org/doc/numpy/reference/generated/numpy.einsum.html) help out here. Figure out how to rewrite the above problem with einstein summation notation. To use the function, if we have\n",
        "$$\n",
        "A_{ijk}\\cdot B_{dk} = C_{ijd},\n",
        "$$\n",
        "we'd use then call:\n",
        "```python\n",
        "C = np.einsum(\"ijk,dk->ijd\",A,B)\n",
        "```"
      ]
    },
    {
      "cell_type": "markdown",
      "metadata": {
        "id": "JsHzwQKAZkZN"
      },
      "source": [
        "#### Test:"
      ]
    },
    {
      "cell_type": "code",
      "metadata": {
        "id": "bpwjiagnZkZN"
      },
      "source": [],
      "execution_count": null,
      "outputs": []
    },
    {
      "cell_type": "code",
      "metadata": {
        "id": "3piehgPsVdOi",
        "colab": {
          "base_uri": "https://localhost:8080/",
          "height": 34
        },
        "outputId": "61d46b42-da52-4305-b072-98e25cbd594e"
      },
      "source": [
        "testFunc(Micro2Macro,[\"Microscopic.dat\"],[\"rho_after_Micro2Macro.dat\",\"u_after_Micro2Macro.dat\"])"
      ],
      "execution_count": null,
      "outputs": [
        {
          "output_type": "stream",
          "text": [
            "Test Passed!\n"
          ],
          "name": "stdout"
        }
      ]
    },
    {
      "cell_type": "markdown",
      "metadata": {
        "id": "gGYLT9RwZkZc"
      },
      "source": [
        "### d. Getting the equilibrium microscopic densities."
      ]
    },
    {
      "cell_type": "markdown",
      "metadata": {
        "id": "i6d8eSiaZkZd"
      },
      "source": [
        "\n",
        "Given the macroscopic densities $\\rho$ and $\\vec{u}$, there is a *equilibrium* microscopic densities $n_{eq}$ (*size: $9 \\times n_x \\times n_y$*) which you will compute using `n_eq=Macro2Equilibrium(rho,u,obstacle)`\n",
        "\n",
        "The relevant formula for this is\n",
        "\n",
        "$$ n^{eq}(v_k) \\equiv n_k^{eq} =  \\omega_k \\rho \\left(1 + 3 \\vec{v_k} \\cdot \\vec{u} + \\frac{9}{2}(\\vec{v_k} \\cdot \\vec{u})^2- \\frac{3}{2}(\\vec{u}\\cdot \\vec{u}) \\right)  \\tag{A} $$\n",
        "\n",
        "where\n",
        "* $\\omega_{0}=4/9$\n",
        "* $\\omega_{1-4}=1/9$\n",
        "* $\\omega_{5-8}=1/36$\n",
        "\n",
        "Given some microscopic densities $n$ you should be able then to figure out the equilibrium microscopic densities $n_{eq}$.  \n",
        "\n",
        "🦉Write the functions `Macro2Equilibrium` adding them to your \"function-cell\"\n",
        "\n",
        "You can test it by checking if\n",
        "```python\n",
        "testFunc(Macro2Equilibrium,[\"rho_after_Micro2Macro.dat\",\"u_after_Micro2Macro.dat\"],[\"Microscopic_after_equilibrium.dat\"])\n",
        "```\n",
        "is equal to zero."
      ]
    },
    {
      "cell_type": "markdown",
      "metadata": {
        "id": "xSgjtyJ2ZkZe"
      },
      "source": [
        "#### Test:"
      ]
    },
    {
      "cell_type": "code",
      "metadata": {
        "id": "edoAvaPOZkZe"
      },
      "source": [
        "def Macro2Equilibrium(rho,u):\n",
        "  omega = [4/9, 1/9, 1/9, 1/9, 1/9, 1/36, 1/36, 1/36, 1/36]\n",
        "  n_eq = []\n",
        "  for k in range(9):\n",
        "    n = omega[k]*rho*(1 + 3*(v[k,0]*u[0]+v[k,1]*u[1]) + (9/2)*(v[k,0]*u[0]+v[k,1]*u[1])**2 - (3/2)*(u[0]**2+u[1]**2))\n",
        "    n_eq.append(n)\n",
        "  return np.array(n_eq)"
      ],
      "execution_count": null,
      "outputs": []
    },
    {
      "cell_type": "code",
      "metadata": {
        "id": "sHcu5HnZdGBw",
        "colab": {
          "base_uri": "https://localhost:8080/",
          "height": 34
        },
        "outputId": "12bd7c8b-bbee-4e55-fa4a-cc35e72512c2"
      },
      "source": [
        " testFunc(Macro2Equilibrium,[\"rho_after_Micro2Macro.dat\",\"u_after_Micro2Macro.dat\"],[\"Microscopic_after_equilibrium.dat\"])"
      ],
      "execution_count": null,
      "outputs": [
        {
          "output_type": "stream",
          "text": [
            "Test Passed!\n"
          ],
          "name": "stdout"
        }
      ]
    },
    {
      "cell_type": "markdown",
      "metadata": {
        "id": "97WTyWeFZkZh"
      },
      "source": [
        "### d. Implementing collision"
      ]
    },
    {
      "cell_type": "markdown",
      "metadata": {
        "collapsed": true,
        "id": "H2VHKj_bZkZj"
      },
      "source": [
        "Once you can compute these quantities, the next step is to implement the collision step.  \n",
        "\n",
        "🦉Write a function `Collision(n,obstacle)` which returns the density `n` after collision.  Put it in your function-cell above.\n",
        "\n",
        "\n",
        "When we collide the microscopic densities, we get new microscopic densities given as  \n",
        "* `nout = n * (1-omega) + omega * neq`\n",
        "\n",
        "Here are the steps for the function:\n",
        "1. Calculate `neq`  \n",
        "  a. take the microscopic densities $\\rightarrow$ compute the macroscopic density and velocity `(rho,u) = Micro2Macro(n)`  \n",
        "  b. take the macroscopic density and velocity $\\rightarrow$ compute the equilibrium microscopic densities `neq=Macro2Equilibrium(rho,u)`  \n",
        "2. Calculate `nout = n * (1-omega) + omega * neq`     \n",
        "  a. $\\omega$ is the viscosity parameter.  We will use $\\omega =1.9572953736654806$\n",
        "3. We moved fluid where the obstacle is, so we need to undo this. Reset all `nout` where the obstacle is to be the same as `n`\n",
        "\n",
        "\n",
        "Test with\n",
        "```python\n",
        "testFunc(lambda x: Collision(x,GenerateCylinderObstacle()),[\"Microscopic.dat\"],[\"Microscopic_after_collision.dat\"])\n",
        "```\n"
      ]
    },
    {
      "cell_type": "markdown",
      "metadata": {
        "id": "T8gQE3FzZkZk"
      },
      "source": [
        "#### Test:"
      ]
    },
    {
      "cell_type": "code",
      "metadata": {
        "id": "seEUPNrPggls"
      },
      "source": [
        "def Collision(n, obstacle):\n",
        "  omega = 1.9572953736654806\n",
        "  rho, u = Micro2Macro(n)\n",
        "  neq = Macro2Equilibrium(rho,u)\n",
        "  nout = n*(1-omega) + omega*neq\n",
        "  for k in range (9):\n",
        "    for i in range(nx):\n",
        "      for j in range(ny):\n",
        "       if obstacle[i,j] == True:\n",
        "         nout[k,i,j] = n[k,i,j]\n",
        "  return nout"
      ],
      "execution_count": null,
      "outputs": []
    },
    {
      "cell_type": "code",
      "metadata": {
        "id": "nLN92LVuZkZl",
        "colab": {
          "base_uri": "https://localhost:8080/",
          "height": 34
        },
        "outputId": "c4dad217-a4c1-43d1-d97c-06134136646a"
      },
      "source": [
        "testFunc(lambda x: Collision(x,GenerateCylinderObstacle()),[\"Microscopic.dat\"],[\"Microscopic_after_collision.dat\"])"
      ],
      "execution_count": null,
      "outputs": [
        {
          "output_type": "stream",
          "text": [
            "Test Passed!\n"
          ],
          "name": "stdout"
        }
      ]
    },
    {
      "cell_type": "markdown",
      "metadata": {
        "id": "tc672U5YZkZn"
      },
      "source": [
        "### e. Moving"
      ]
    },
    {
      "cell_type": "markdown",
      "metadata": {
        "id": "L2EI6wJoZkZo"
      },
      "source": [
        "We'll now move on to getting the fluid to move. This will be a function called, surprise, `Move(n,obstacle)`. But first we need to helper functions:\n",
        "* `Bounce(n,obstacle)`\n",
        "    * bounce the velocities - that is every velocity where the obstacle is gets reversed\n",
        "* `MoveDensity(n)`\n",
        "    * Move all your densities in the direction of the velocity (*hint* the velocity tells you where to move it)\n",
        "    * Assume periodic boundary conditions here\n",
        "\n",
        "Thus a `Move(n,obstacle)` call is just a `Bounce` then `MoveDensity`. 🦉Write this function and test!\n",
        "\n",
        "\n",
        "Test:\n",
        "```python\n",
        "testFunc(lambda x: Bounce(x,GenerateCylinderObstacle()),[\"Microscopic.dat\"],[\"Microscopic_after_bounce.dat\"])\n",
        "\n",
        "testFunc(MoveDensity,[\"Microscopic.dat\"],[\"Microscopic_after_moveDensity.dat\"])\n",
        "\n",
        "testFunc(lambda x: Move(x,GenerateCylinderObstacle()),[\"Microscopic.dat\"],[\"Microscopic_after_move.dat\"])\n",
        "```"
      ]
    },
    {
      "cell_type": "markdown",
      "metadata": {
        "id": "5ZT7KsKjZkZo"
      },
      "source": [
        "#### Tests:"
      ]
    },
    {
      "cell_type": "code",
      "metadata": {
        "id": "Sr1jiFtnZkZp"
      },
      "source": [
        "def Bounce(n, obstacle):\n",
        "  new = n.copy()\n",
        "  for k in range (9):\n",
        "    for i in range(nx):\n",
        "      for j in range(ny):\n",
        "        if(obstacle[i,j] == True):\n",
        "            new[k,:,:] = -1*n[k,:,:]\n",
        "  return new\n",
        "\n",
        "def MoveDensity(n):\n",
        "  np.roll(n[0,:,:], (0,0), (0,1))\n",
        "  np.roll(n[1,:,:], (1,0), (0,1))\n",
        "  np.roll(n[2,:,:], (-1,0), (0,1))\n",
        "  np.roll(n[3,:,:], (0,1), (0,1))\n",
        "  np.roll(n[4,:,:], (0,-1), (0,1))\n",
        "  np.roll(n[5,:,:], (-1,-1), (0,1))\n",
        "  np.roll(n[6,:,:], (1,-1), (0,1))\n",
        "  np.roll(n[7,:,:], (-1,1), (0,1))\n",
        "  np.roll(n[8,:,:], (1,1), (0,1))\n",
        "  return n"
      ],
      "execution_count": null,
      "outputs": []
    },
    {
      "cell_type": "code",
      "metadata": {
        "id": "WJ6QNHT7ZkZr"
      },
      "source": [
        "def Move(n, obstacle):\n",
        "  Bounce(n, obstacle)\n",
        "  MoveDensity(n)\n",
        "  return n"
      ],
      "execution_count": null,
      "outputs": []
    },
    {
      "cell_type": "code",
      "metadata": {
        "id": "ZJWSOZJeZkZu",
        "colab": {
          "base_uri": "https://localhost:8080/",
          "height": 119
        },
        "outputId": "403d05ed-5ed4-4ee5-e0d1-39cfd1d35b53"
      },
      "source": [
        "testFunc(lambda x: Bounce(x,GenerateCylinderObstacle()),[\"Microscopic.dat\"],[\"Microscopic_after_bounce.dat\"])\n",
        "testFunc(MoveDensity,[\"Microscopic.dat\"],[\"Microscopic_after_moveDensity.dat\"])\n",
        "testFunc(lambda x: Move(x,GenerateCylinderObstacle()),[\"Microscopic.dat\"],[\"Microscopic_after_move.dat\"])"
      ],
      "execution_count": null,
      "outputs": [
        {
          "output_type": "stream",
          "text": [
            "Failed test for Microscopic_after_bounce.dat 0 max_error= 1.9999999931623704\n",
            "Test Failed :(\n",
            "Failed test for Microscopic_after_moveDensity.dat 0 max_error= 0.9980962312114775\n",
            "Test Failed :(\n",
            "Failed test for Microscopic_after_move.dat 0 max_error= 0.9980962312114775\n",
            "Test Failed :(\n"
          ],
          "name": "stdout"
        }
      ]
    },
    {
      "cell_type": "markdown",
      "metadata": {
        "id": "21D3mcEgZkZx"
      },
      "source": [
        "### f.  Boundary conditions"
      ]
    },
    {
      "cell_type": "markdown",
      "metadata": {
        "id": "G_EPIIckZkZ1"
      },
      "source": [
        "In the y-direction, we are just going to assume that the boundary conditions are periodic. For the x-direction, we are going to assign certain boundary conditions on the left and right.  \n",
        "\n",
        "Let's call this function `FixBoundary(n,n_init)` which applies these boundary conditions and returns the new density `n`.\n",
        "\n",
        "**Left:** we are going to assume that there is a flow - this means that the microscopic densities are the same at each step.  Therefore, what we should do is simply replace the current densities on the left-most row with the initial microscopic densities (`n_init`).\n",
        "\n",
        "**Right:** we are going to assume that the gradient is zero - i.e. the important physics has dissapeared by this point.  To do this, we will set\n",
        "\n",
        "```python\n",
        "# loop over all microscopic velocities vL that are going left\n",
        "   nout[vL,-1,:] = nout[vL,-2,:]\n",
        "```\n",
        "*Hint:* there are 3 `vL`s.\n",
        "\n",
        "\n",
        "🦉Put all of this together and run the next test!\n",
        "\n",
        "Testing:\n",
        "```python\n",
        "testFunc(FixBoundary,[\"Microscopic.dat\",\"Microscopic2.dat\"], [\"Microscopic_after_boundary.dat\"])\n",
        "```\n"
      ]
    },
    {
      "cell_type": "markdown",
      "metadata": {
        "id": "roahvxYhZkZ1"
      },
      "source": [
        "#### Test:"
      ]
    },
    {
      "cell_type": "code",
      "metadata": {
        "id": "liRx-UZGjMYI"
      },
      "source": [
        "def FixBoundary(n, n_init):\n",
        "  new = n.copy()\n",
        "  new[:,0,:] = n_init[:,0,:]\n",
        "  for vL in [4,5,6]:\n",
        "    new[vL,-1,:] = n[vL,-2,:]\n",
        "  return new"
      ],
      "execution_count": null,
      "outputs": []
    },
    {
      "cell_type": "code",
      "metadata": {
        "id": "6Cmq7DziZkZ2",
        "colab": {
          "base_uri": "https://localhost:8080/",
          "height": 34
        },
        "outputId": "ed50a5ff-9f85-478d-f9d5-4726e6031f90"
      },
      "source": [
        "testFunc(FixBoundary,[\"Microscopic.dat\",\"Microscopic2.dat\"], [\"Microscopic_after_boundary.dat\"])"
      ],
      "execution_count": null,
      "outputs": [
        {
          "output_type": "stream",
          "text": [
            "Test Passed!\n"
          ],
          "name": "stdout"
        }
      ]
    },
    {
      "cell_type": "markdown",
      "metadata": {
        "id": "l0bGBuzgZkZ6"
      },
      "source": [
        "### g. Setting up the initial conditions"
      ]
    },
    {
      "cell_type": "markdown",
      "metadata": {
        "id": "z7TTaOMUZkZ6"
      },
      "source": [
        "We need to generate an initial conditions. The way that we are going to do that is\n",
        "* pick some macroscopic density $\\rho$ of size $(n_x,n_y)$ (uniformly equal to 1.0) and a\n",
        "* macroscopic velocity $\\vec{u}(i,j)$ (sizes $(2,n_x,n_y)$)\n",
        "    * `0.04*(1.0+1e-4*np.sin(j/(ny)*2*np.pi))` in the x-direction ( $u_x(i,j)$ aka 0). This introduces a very tiny anisotropy to the system.\n",
        "    *  zero in the y-direction ($u_y(i,j)$ aka 1)\n",
        "* compute the equilibrium density $n_{eq}$ associated with the initial density and velocities.   \n",
        "* **Use (and return) this as the initial conditions**\n",
        "\n",
        "🦉Write a function `Setup()` which returns the initial microscopic densities.  Remember to save this as you will need it to apply your boundary conditions.\n",
        "\n",
        "I get the following when I visualize it as `plt.matshow(Setup()[3].transpose())`\n",
        "\n",
        "![initial density](https://courses.physics.illinois.edu/phys246/fa2020/code/images/FD/init_density.png)\n",
        "\n",
        "A quick test here is just to check that the following:\n",
        "```python\n",
        "print(\"All good?\",(np.abs(np.max(Setup())-0.443377991)<1e-5) and ((np.abs(np.min(Setup())-0.0245774711)<1e-5)))\n",
        "```"
      ]
    },
    {
      "cell_type": "code",
      "metadata": {
        "id": "Qzl5531zjrQQ"
      },
      "source": [
        "def Setup():\n",
        "  rho = 1\n",
        "  for j in range(ny):\n",
        "    u = [0.04*(1.0+1e-4*np.sin(j/(ny)*2*np.pi)), 0]\n",
        "  n = Macro2Equilibrium(rho, u)\n",
        "  return n"
      ],
      "execution_count": null,
      "outputs": []
    },
    {
      "cell_type": "code",
      "metadata": {
        "id": "UyKBx5BcDX_7"
      },
      "source": [],
      "execution_count": null,
      "outputs": []
    },
    {
      "cell_type": "markdown",
      "metadata": {
        "id": "JSjt-dH0ZkZ-"
      },
      "source": [
        "#### Test:"
      ]
    },
    {
      "cell_type": "code",
      "metadata": {
        "id": "hwpPd-9DZkZ_",
        "colab": {
          "base_uri": "https://localhost:8080/",
          "height": 34
        },
        "outputId": "0aba8f79-d3c8-4ecb-e05b-e1fd8816f8cf"
      },
      "source": [
        "print(\"All good?\",(np.abs(np.max(Setup())-0.443377991)<1e-5) and ((np.abs(np.min(Setup())-0.0245774711)<1e-5)))"
      ],
      "execution_count": null,
      "outputs": [
        {
          "output_type": "stream",
          "text": [
            "All good? True\n"
          ],
          "name": "stdout"
        }
      ]
    },
    {
      "cell_type": "markdown",
      "metadata": {
        "id": "3LX3aM-uZkaC"
      },
      "source": [
        "### h. Putting it all together"
      ]
    },
    {
      "cell_type": "markdown",
      "metadata": {
        "collapsed": true,
        "id": "jHQHpxjeZkaC"
      },
      "source": [
        "🦉Write a function `Run(steps,record,n,n_init,obstacle)` (up in your function-cell) which takes\n",
        "* the number of steps `steps` you want to run\n",
        "* how often you want to `record` the velocity and density\n",
        "* the microscopic densities `n` to start running from\n",
        "* as well as the initial microscopic densities `n_init` for the boundary conditions (often equal to `n.copy()`)\n",
        "* and the obstacle boolean array.\n",
        "\n",
        "Each step consists of:\n",
        "1. Adjust boundary conditions\n",
        "2. Collide the microscopic densities\n",
        "3. Move the microscopic densities\n",
        "\n",
        "It should return\n",
        "* a list of macroscopic densities `rhos`\n",
        "* a list of macroscopic velocities `us`\n",
        "  * This will be `u2=`$\\sqrt{\\vec{u}\\cdot\\vec{u}}$\n",
        "  * To help us later, store these as `u2.transpose()`\n",
        "* the last microscopic density `n`\n",
        "\n",
        "Now (below) call your `Setup` and `Run` functions. Then plot the final configuration (something like `plt.matshow(us[-1])`).  \n",
        "\n",
        "🦉Run for 201 steps recording every 100 steps."
      ]
    },
    {
      "cell_type": "markdown",
      "metadata": {
        "id": "1Gfh0ar9ZkaE"
      },
      "source": [
        "#### Answer:"
      ]
    },
    {
      "cell_type": "code",
      "metadata": {
        "id": "hcindeuXZkaE"
      },
      "source": [
        "def Run(steps,record,n,n_init,obstacle):\n",
        "  rhos = []\n",
        "  us = []\n",
        "  for s in range(steps):\n",
        "    n = step(n, n_init, obstacle)\n",
        "    if (s%record == 0):\n",
        "      rho, u = Micro2Macro(n)\n",
        "      rhos.append(rho)\n",
        "      us.append(u)\n",
        "  return rhos, us, n\n",
        "\n",
        "def step(n, n_init, obstacle):\n",
        "  FixBoundary(n, n_init)\n",
        "  Collision(n, obstacle)\n",
        "  Move(n, obstacle)\n",
        "  return n"
      ],
      "execution_count": null,
      "outputs": []
    },
    {
      "cell_type": "code",
      "metadata": {
        "scrolled": true,
        "id": "kDK7tgG6ZkaH",
        "colab": {
          "base_uri": "https://localhost:8080/",
          "height": 324
        },
        "outputId": "57787321-a5c6-410b-fb62-842f988c55f3"
      },
      "source": [
        "n = Setup()\n",
        "Run(201, 100, n, n.copy(), GenerateCylinderObstacle())"
      ],
      "execution_count": null,
      "outputs": [
        {
          "output_type": "error",
          "ename": "IndexError",
          "evalue": "ignored",
          "traceback": [
            "\u001b[0;31m---------------------------------------------------------------------------\u001b[0m",
            "\u001b[0;31mIndexError\u001b[0m                                Traceback (most recent call last)",
            "\u001b[0;32m<ipython-input-128-95e03ba66be5>\u001b[0m in \u001b[0;36m<module>\u001b[0;34m()\u001b[0m\n\u001b[1;32m      1\u001b[0m \u001b[0mn\u001b[0m \u001b[0;34m=\u001b[0m \u001b[0mSetup\u001b[0m\u001b[0;34m(\u001b[0m\u001b[0;34m)\u001b[0m\u001b[0;34m\u001b[0m\u001b[0;34m\u001b[0m\u001b[0m\n\u001b[0;32m----> 2\u001b[0;31m \u001b[0mRun\u001b[0m\u001b[0;34m(\u001b[0m\u001b[0;36m201\u001b[0m\u001b[0;34m,\u001b[0m \u001b[0;36m100\u001b[0m\u001b[0;34m,\u001b[0m \u001b[0mn\u001b[0m\u001b[0;34m,\u001b[0m \u001b[0mn\u001b[0m\u001b[0;34m.\u001b[0m\u001b[0mcopy\u001b[0m\u001b[0;34m(\u001b[0m\u001b[0;34m)\u001b[0m\u001b[0;34m,\u001b[0m \u001b[0mGenerateCylinderObstacle\u001b[0m\u001b[0;34m(\u001b[0m\u001b[0;34m)\u001b[0m\u001b[0;34m)\u001b[0m\u001b[0;34m\u001b[0m\u001b[0;34m\u001b[0m\u001b[0m\n\u001b[0m",
            "\u001b[0;32m<ipython-input-99-76b233df515f>\u001b[0m in \u001b[0;36mRun\u001b[0;34m(steps, record, n, n_init, obstacle)\u001b[0m\n\u001b[1;32m      3\u001b[0m   \u001b[0mus\u001b[0m \u001b[0;34m=\u001b[0m \u001b[0;34m[\u001b[0m\u001b[0;34m]\u001b[0m\u001b[0;34m\u001b[0m\u001b[0;34m\u001b[0m\u001b[0m\n\u001b[1;32m      4\u001b[0m   \u001b[0;32mfor\u001b[0m \u001b[0ms\u001b[0m \u001b[0;32min\u001b[0m \u001b[0mrange\u001b[0m\u001b[0;34m(\u001b[0m\u001b[0msteps\u001b[0m\u001b[0;34m)\u001b[0m\u001b[0;34m:\u001b[0m\u001b[0;34m\u001b[0m\u001b[0;34m\u001b[0m\u001b[0m\n\u001b[0;32m----> 5\u001b[0;31m     \u001b[0mn\u001b[0m \u001b[0;34m=\u001b[0m \u001b[0mstep\u001b[0m\u001b[0;34m(\u001b[0m\u001b[0mn\u001b[0m\u001b[0;34m,\u001b[0m \u001b[0mn_init\u001b[0m\u001b[0;34m,\u001b[0m \u001b[0mobstacle\u001b[0m\u001b[0;34m)\u001b[0m\u001b[0;34m\u001b[0m\u001b[0;34m\u001b[0m\u001b[0m\n\u001b[0m\u001b[1;32m      6\u001b[0m     \u001b[0;32mif\u001b[0m \u001b[0;34m(\u001b[0m\u001b[0ms\u001b[0m\u001b[0;34m%\u001b[0m\u001b[0mrecord\u001b[0m \u001b[0;34m==\u001b[0m \u001b[0;36m0\u001b[0m\u001b[0;34m)\u001b[0m\u001b[0;34m:\u001b[0m\u001b[0;34m\u001b[0m\u001b[0;34m\u001b[0m\u001b[0m\n\u001b[1;32m      7\u001b[0m       \u001b[0mrho\u001b[0m\u001b[0;34m,\u001b[0m \u001b[0mu\u001b[0m \u001b[0;34m=\u001b[0m \u001b[0mMicro2Macro\u001b[0m\u001b[0;34m(\u001b[0m\u001b[0mn\u001b[0m\u001b[0;34m)\u001b[0m\u001b[0;34m\u001b[0m\u001b[0;34m\u001b[0m\u001b[0m\n",
            "\u001b[0;32m<ipython-input-99-76b233df515f>\u001b[0m in \u001b[0;36mstep\u001b[0;34m(n, n_init, obstacle)\u001b[0m\n\u001b[1;32m     11\u001b[0m \u001b[0;34m\u001b[0m\u001b[0m\n\u001b[1;32m     12\u001b[0m \u001b[0;32mdef\u001b[0m \u001b[0mstep\u001b[0m\u001b[0;34m(\u001b[0m\u001b[0mn\u001b[0m\u001b[0;34m,\u001b[0m \u001b[0mn_init\u001b[0m\u001b[0;34m,\u001b[0m \u001b[0mobstacle\u001b[0m\u001b[0;34m)\u001b[0m\u001b[0;34m:\u001b[0m\u001b[0;34m\u001b[0m\u001b[0;34m\u001b[0m\u001b[0m\n\u001b[0;32m---> 13\u001b[0;31m   \u001b[0mFixBoundary\u001b[0m\u001b[0;34m(\u001b[0m\u001b[0mn\u001b[0m\u001b[0;34m,\u001b[0m \u001b[0mn_init\u001b[0m\u001b[0;34m)\u001b[0m\u001b[0;34m\u001b[0m\u001b[0;34m\u001b[0m\u001b[0m\n\u001b[0m\u001b[1;32m     14\u001b[0m   \u001b[0mCollision\u001b[0m\u001b[0;34m(\u001b[0m\u001b[0mn\u001b[0m\u001b[0;34m,\u001b[0m \u001b[0mobstacle\u001b[0m\u001b[0;34m)\u001b[0m\u001b[0;34m\u001b[0m\u001b[0;34m\u001b[0m\u001b[0m\n\u001b[1;32m     15\u001b[0m   \u001b[0mMove\u001b[0m\u001b[0;34m(\u001b[0m\u001b[0mn\u001b[0m\u001b[0;34m,\u001b[0m \u001b[0mobstacle\u001b[0m\u001b[0;34m)\u001b[0m\u001b[0;34m\u001b[0m\u001b[0;34m\u001b[0m\u001b[0m\n",
            "\u001b[0;32m<ipython-input-122-a0e3f44db432>\u001b[0m in \u001b[0;36mFixBoundary\u001b[0;34m(n, n_init)\u001b[0m\n\u001b[1;32m      1\u001b[0m \u001b[0;32mdef\u001b[0m \u001b[0mFixBoundary\u001b[0m\u001b[0;34m(\u001b[0m\u001b[0mn\u001b[0m\u001b[0;34m,\u001b[0m \u001b[0mn_init\u001b[0m\u001b[0;34m)\u001b[0m\u001b[0;34m:\u001b[0m\u001b[0;34m\u001b[0m\u001b[0;34m\u001b[0m\u001b[0m\n\u001b[1;32m      2\u001b[0m   \u001b[0mnew\u001b[0m \u001b[0;34m=\u001b[0m \u001b[0mn\u001b[0m\u001b[0;34m.\u001b[0m\u001b[0mcopy\u001b[0m\u001b[0;34m(\u001b[0m\u001b[0;34m)\u001b[0m\u001b[0;34m\u001b[0m\u001b[0;34m\u001b[0m\u001b[0m\n\u001b[0;32m----> 3\u001b[0;31m   \u001b[0mnew\u001b[0m\u001b[0;34m[\u001b[0m\u001b[0;34m:\u001b[0m\u001b[0;34m,\u001b[0m\u001b[0;36m0\u001b[0m\u001b[0;34m,\u001b[0m\u001b[0;34m:\u001b[0m\u001b[0;34m]\u001b[0m \u001b[0;34m=\u001b[0m \u001b[0mn_init\u001b[0m\u001b[0;34m[\u001b[0m\u001b[0;34m:\u001b[0m\u001b[0;34m,\u001b[0m\u001b[0;36m0\u001b[0m\u001b[0;34m,\u001b[0m\u001b[0;34m:\u001b[0m\u001b[0;34m]\u001b[0m\u001b[0;34m\u001b[0m\u001b[0;34m\u001b[0m\u001b[0m\n\u001b[0m\u001b[1;32m      4\u001b[0m   \u001b[0;32mfor\u001b[0m \u001b[0mvL\u001b[0m \u001b[0;32min\u001b[0m \u001b[0;34m[\u001b[0m\u001b[0;36m4\u001b[0m\u001b[0;34m,\u001b[0m\u001b[0;36m5\u001b[0m\u001b[0;34m,\u001b[0m\u001b[0;36m6\u001b[0m\u001b[0;34m]\u001b[0m\u001b[0;34m:\u001b[0m\u001b[0;34m\u001b[0m\u001b[0;34m\u001b[0m\u001b[0m\n\u001b[1;32m      5\u001b[0m     \u001b[0mnew\u001b[0m\u001b[0;34m[\u001b[0m\u001b[0mvL\u001b[0m\u001b[0;34m,\u001b[0m\u001b[0;34m-\u001b[0m\u001b[0;36m1\u001b[0m\u001b[0;34m,\u001b[0m\u001b[0;34m:\u001b[0m\u001b[0;34m]\u001b[0m \u001b[0;34m=\u001b[0m \u001b[0mn\u001b[0m\u001b[0;34m[\u001b[0m\u001b[0mvL\u001b[0m\u001b[0;34m,\u001b[0m\u001b[0;34m-\u001b[0m\u001b[0;36m2\u001b[0m\u001b[0;34m,\u001b[0m\u001b[0;34m:\u001b[0m\u001b[0;34m]\u001b[0m\u001b[0;34m\u001b[0m\u001b[0;34m\u001b[0m\u001b[0m\n",
            "\u001b[0;31mIndexError\u001b[0m: too many indices for array"
          ]
        }
      ]
    },
    {
      "cell_type": "markdown",
      "metadata": {
        "id": "VsR4lPYGZkaK"
      },
      "source": [
        "### i. Animation"
      ]
    },
    {
      "cell_type": "markdown",
      "metadata": {
        "id": "6I1W59kVZkaK"
      },
      "source": [
        "🦉Now write a function `AnimateMe(us_flat,vMax)` which is going to take a list of velocities `us_flat` (and maximum for the `vMax`) and going to return an animation which is going to be then produced by calling\n",
        "```python\n",
        "anim = AnimateMe(us,vMax)\n",
        "HTML(anim.to_jshtml())\n",
        "```\n",
        "\n",
        "This function will look like:\n",
        "```python\n",
        "def AnimateMe(us_flat,vMax):\n",
        "    fig, ax = plt.subplots()\n",
        "    cax = ax.imshow(us_flat[1],cmap=plt.cm.Reds,vmin=0,vmax=vMax)\n",
        "    plt.close(fig)\n",
        "    def animate(i):\n",
        "         cax.set_array(us_flat[i])\n",
        "\n",
        "    anim = FuncAnimation(fig, animate, interval=100, frames=len(us_flat))\n",
        "    return anim\n",
        "```\n",
        "\n"
      ]
    },
    {
      "cell_type": "markdown",
      "metadata": {
        "id": "XyoCL2TqZkaL"
      },
      "source": [
        "#### Answer:"
      ]
    },
    {
      "cell_type": "code",
      "metadata": {
        "id": "Y92g6mDYZkaM"
      },
      "source": [
        "def AnimateMe(us_flat,vMax):\n",
        "    fig, ax = plt.subplots()\n",
        "    cax = ax.imshow(us_flat[1],cmap=plt.cm.Reds,vmin=0,vmax=vMax)\n",
        "    plt.close(fig)\n",
        "    def animate(i):\n",
        "         cax.set_array(us_flat[i])\n",
        "\n",
        "    anim = FuncAnimation(fig, animate, interval=100, frames=len(us_flat))\n",
        "    return anim\n",
        "\n",
        "anim = AnimateMe(us,vMax)\n",
        "HTML(anim.to_jshtml())"
      ],
      "execution_count": null,
      "outputs": []
    },
    {
      "cell_type": "markdown",
      "metadata": {
        "id": "ALeMhth2ZkaR"
      },
      "source": [
        "### j. Speed Test (EC)\n",
        "*5 Points*"
      ]
    },
    {
      "cell_type": "markdown",
      "metadata": {
        "id": "uVRy_NiIZkaS"
      },
      "source": [
        "Our code for for `%time Run(2000,3000,Setup(),Setup(),GenerateCylinderObstacle())` takes between 45 and 60 seconds. We'll give 5 points if you can make your code faster than 40 seconds runtime (on colab or our computers). Warning: we aren't sure this is possible!"
      ]
    },
    {
      "cell_type": "markdown",
      "metadata": {
        "id": "8a3i9BdxZkaT"
      },
      "source": [
        "#### Answer:"
      ]
    },
    {
      "cell_type": "code",
      "metadata": {
        "id": "ryHWlEk6ZkaT"
      },
      "source": [],
      "execution_count": null,
      "outputs": []
    },
    {
      "cell_type": "markdown",
      "metadata": {
        "id": "BzPSfxIxZkaW"
      },
      "source": [
        "## Exercise 2: Walls"
      ]
    },
    {
      "cell_type": "markdown",
      "metadata": {
        "id": "aOji0LDlZkaW"
      },
      "source": [
        "* **List of collaborators:**\n",
        "\n",
        "* **References you used in developing your code:**"
      ]
    },
    {
      "cell_type": "markdown",
      "metadata": {
        "id": "K1zeHYyQZkaY"
      },
      "source": [
        "In this exercise we are going to use all the same code but generate a different object.  Here generate an object which consists of two walls:\n",
        "* one spans $50 \\leq x \\leq 60$ and $n_y/4 \\leq y \\leq 3n_y/4$\n",
        "* the other spans $200 \\leq x \\leq 210$ and $n_y/4 \\leq y \\leq 3n_y/4$\n",
        "\n",
        "🦉Run your code again with this new obstacle and generate a new animation."
      ]
    },
    {
      "cell_type": "markdown",
      "metadata": {
        "id": "7Oc3ds1QZkaZ"
      },
      "source": [
        "#### Answer:"
      ]
    },
    {
      "cell_type": "code",
      "metadata": {
        "id": "p-WG-h0nZkaZ"
      },
      "source": [
        "obstacle = np.empty((nx, ny), dtype = 'bool')\n",
        "obstacle[:, :] = False\n",
        "for i in range(nx):\n",
        "  for j in range(ny):\n",
        "    if(i >= 50 and i <= 60 and j >= ny/4 and j <= 3*ny/4):\n",
        "      obstacle[i,j] == True\n",
        "    if(i >= 200 and i <= 210 and j >= ny/4 and j <= 3*ny/4):\n",
        "      obstacle[i,j] == True\n",
        ""
      ],
      "execution_count": null,
      "outputs": []
    },
    {
      "cell_type": "code",
      "metadata": {
        "id": "eJ52oJ5dZkao",
        "colab": {
          "base_uri": "https://localhost:8080/",
          "height": 480
        },
        "outputId": "8221e23a-8040-48dc-a26b-b076ba453b97"
      },
      "source": [
        "n = Setup()\n",
        "Run(201, 100, n, n.copy(), obstacle)"
      ],
      "execution_count": null,
      "outputs": [
        {
          "output_type": "stream",
          "text": [
            "/usr/local/lib/python3.6/dist-packages/ipykernel_launcher.py:3: RuntimeWarning: divide by zero encountered in true_divide\n",
            "  This is separate from the ipykernel package so we can avoid doing imports until\n",
            "/usr/local/lib/python3.6/dist-packages/ipykernel_launcher.py:3: RuntimeWarning: invalid value encountered in multiply\n",
            "  This is separate from the ipykernel package so we can avoid doing imports until\n",
            "/usr/local/lib/python3.6/dist-packages/ipykernel_launcher.py:4: RuntimeWarning: divide by zero encountered in true_divide\n",
            "  after removing the cwd from sys.path.\n",
            "/usr/local/lib/python3.6/dist-packages/ipykernel_launcher.py:4: RuntimeWarning: invalid value encountered in multiply\n",
            "  after removing the cwd from sys.path.\n"
          ],
          "name": "stderr"
        },
        {
          "output_type": "error",
          "ename": "KeyboardInterrupt",
          "evalue": "ignored",
          "traceback": [
            "\u001b[0;31m---------------------------------------------------------------------------\u001b[0m",
            "\u001b[0;31mKeyboardInterrupt\u001b[0m                         Traceback (most recent call last)",
            "\u001b[0;32m<ipython-input-110-0963a945412e>\u001b[0m in \u001b[0;36m<module>\u001b[0;34m()\u001b[0m\n\u001b[1;32m      1\u001b[0m \u001b[0mn\u001b[0m \u001b[0;34m=\u001b[0m \u001b[0mSetup\u001b[0m\u001b[0;34m(\u001b[0m\u001b[0;34m)\u001b[0m\u001b[0;34m\u001b[0m\u001b[0;34m\u001b[0m\u001b[0m\n\u001b[0;32m----> 2\u001b[0;31m \u001b[0mRun\u001b[0m\u001b[0;34m(\u001b[0m\u001b[0;36m201\u001b[0m\u001b[0;34m,\u001b[0m \u001b[0;36m100\u001b[0m\u001b[0;34m,\u001b[0m \u001b[0mn\u001b[0m\u001b[0;34m,\u001b[0m \u001b[0mn\u001b[0m\u001b[0;34m.\u001b[0m\u001b[0mcopy\u001b[0m\u001b[0;34m(\u001b[0m\u001b[0;34m)\u001b[0m\u001b[0;34m,\u001b[0m \u001b[0mobstacle\u001b[0m\u001b[0;34m)\u001b[0m\u001b[0;34m\u001b[0m\u001b[0;34m\u001b[0m\u001b[0m\n\u001b[0m",
            "\u001b[0;32m<ipython-input-99-76b233df515f>\u001b[0m in \u001b[0;36mRun\u001b[0;34m(steps, record, n, n_init, obstacle)\u001b[0m\n\u001b[1;32m      3\u001b[0m   \u001b[0mus\u001b[0m \u001b[0;34m=\u001b[0m \u001b[0;34m[\u001b[0m\u001b[0;34m]\u001b[0m\u001b[0;34m\u001b[0m\u001b[0;34m\u001b[0m\u001b[0m\n\u001b[1;32m      4\u001b[0m   \u001b[0;32mfor\u001b[0m \u001b[0ms\u001b[0m \u001b[0;32min\u001b[0m \u001b[0mrange\u001b[0m\u001b[0;34m(\u001b[0m\u001b[0msteps\u001b[0m\u001b[0;34m)\u001b[0m\u001b[0;34m:\u001b[0m\u001b[0;34m\u001b[0m\u001b[0;34m\u001b[0m\u001b[0m\n\u001b[0;32m----> 5\u001b[0;31m     \u001b[0mn\u001b[0m \u001b[0;34m=\u001b[0m \u001b[0mstep\u001b[0m\u001b[0;34m(\u001b[0m\u001b[0mn\u001b[0m\u001b[0;34m,\u001b[0m \u001b[0mn_init\u001b[0m\u001b[0;34m,\u001b[0m \u001b[0mobstacle\u001b[0m\u001b[0;34m)\u001b[0m\u001b[0;34m\u001b[0m\u001b[0;34m\u001b[0m\u001b[0m\n\u001b[0m\u001b[1;32m      6\u001b[0m     \u001b[0;32mif\u001b[0m \u001b[0;34m(\u001b[0m\u001b[0ms\u001b[0m\u001b[0;34m%\u001b[0m\u001b[0mrecord\u001b[0m \u001b[0;34m==\u001b[0m \u001b[0;36m0\u001b[0m\u001b[0;34m)\u001b[0m\u001b[0;34m:\u001b[0m\u001b[0;34m\u001b[0m\u001b[0;34m\u001b[0m\u001b[0m\n\u001b[1;32m      7\u001b[0m       \u001b[0mrho\u001b[0m\u001b[0;34m,\u001b[0m \u001b[0mu\u001b[0m \u001b[0;34m=\u001b[0m \u001b[0mMicro2Macro\u001b[0m\u001b[0;34m(\u001b[0m\u001b[0mn\u001b[0m\u001b[0;34m)\u001b[0m\u001b[0;34m\u001b[0m\u001b[0;34m\u001b[0m\u001b[0m\n",
            "\u001b[0;32m<ipython-input-99-76b233df515f>\u001b[0m in \u001b[0;36mstep\u001b[0;34m(n, n_init, obstacle)\u001b[0m\n\u001b[1;32m     12\u001b[0m \u001b[0;32mdef\u001b[0m \u001b[0mstep\u001b[0m\u001b[0;34m(\u001b[0m\u001b[0mn\u001b[0m\u001b[0;34m,\u001b[0m \u001b[0mn_init\u001b[0m\u001b[0;34m,\u001b[0m \u001b[0mobstacle\u001b[0m\u001b[0;34m)\u001b[0m\u001b[0;34m:\u001b[0m\u001b[0;34m\u001b[0m\u001b[0;34m\u001b[0m\u001b[0m\n\u001b[1;32m     13\u001b[0m   \u001b[0mFixBoundary\u001b[0m\u001b[0;34m(\u001b[0m\u001b[0mn\u001b[0m\u001b[0;34m,\u001b[0m \u001b[0mn_init\u001b[0m\u001b[0;34m)\u001b[0m\u001b[0;34m\u001b[0m\u001b[0;34m\u001b[0m\u001b[0m\n\u001b[0;32m---> 14\u001b[0;31m   \u001b[0mCollision\u001b[0m\u001b[0;34m(\u001b[0m\u001b[0mn\u001b[0m\u001b[0;34m,\u001b[0m \u001b[0mobstacle\u001b[0m\u001b[0;34m)\u001b[0m\u001b[0;34m\u001b[0m\u001b[0;34m\u001b[0m\u001b[0m\n\u001b[0m\u001b[1;32m     15\u001b[0m   \u001b[0mMove\u001b[0m\u001b[0;34m(\u001b[0m\u001b[0mn\u001b[0m\u001b[0;34m,\u001b[0m \u001b[0mobstacle\u001b[0m\u001b[0;34m)\u001b[0m\u001b[0;34m\u001b[0m\u001b[0;34m\u001b[0m\u001b[0m\n\u001b[1;32m     16\u001b[0m   \u001b[0;32mreturn\u001b[0m \u001b[0mn\u001b[0m\u001b[0;34m\u001b[0m\u001b[0;34m\u001b[0m\u001b[0m\n",
            "\u001b[0;32m<ipython-input-23-04acf5bf5f31>\u001b[0m in \u001b[0;36mCollision\u001b[0;34m(n, obstacle)\u001b[0m\n\u001b[1;32m      7\u001b[0m     \u001b[0;32mfor\u001b[0m \u001b[0mi\u001b[0m \u001b[0;32min\u001b[0m \u001b[0mrange\u001b[0m\u001b[0;34m(\u001b[0m\u001b[0mnx\u001b[0m\u001b[0;34m)\u001b[0m\u001b[0;34m:\u001b[0m\u001b[0;34m\u001b[0m\u001b[0;34m\u001b[0m\u001b[0m\n\u001b[1;32m      8\u001b[0m       \u001b[0;32mfor\u001b[0m \u001b[0mj\u001b[0m \u001b[0;32min\u001b[0m \u001b[0mrange\u001b[0m\u001b[0;34m(\u001b[0m\u001b[0mny\u001b[0m\u001b[0;34m)\u001b[0m\u001b[0;34m:\u001b[0m\u001b[0;34m\u001b[0m\u001b[0;34m\u001b[0m\u001b[0m\n\u001b[0;32m----> 9\u001b[0;31m        \u001b[0;32mif\u001b[0m \u001b[0mobstacle\u001b[0m\u001b[0;34m[\u001b[0m\u001b[0mi\u001b[0m\u001b[0;34m,\u001b[0m\u001b[0mj\u001b[0m\u001b[0;34m]\u001b[0m \u001b[0;34m==\u001b[0m \u001b[0;32mTrue\u001b[0m\u001b[0;34m:\u001b[0m\u001b[0;34m\u001b[0m\u001b[0;34m\u001b[0m\u001b[0m\n\u001b[0m\u001b[1;32m     10\u001b[0m          \u001b[0mnout\u001b[0m\u001b[0;34m[\u001b[0m\u001b[0mk\u001b[0m\u001b[0;34m,\u001b[0m\u001b[0mi\u001b[0m\u001b[0;34m,\u001b[0m\u001b[0mj\u001b[0m\u001b[0;34m]\u001b[0m \u001b[0;34m=\u001b[0m \u001b[0mn\u001b[0m\u001b[0;34m[\u001b[0m\u001b[0mk\u001b[0m\u001b[0;34m,\u001b[0m\u001b[0mi\u001b[0m\u001b[0;34m,\u001b[0m\u001b[0mj\u001b[0m\u001b[0;34m]\u001b[0m\u001b[0;34m\u001b[0m\u001b[0;34m\u001b[0m\u001b[0m\n\u001b[1;32m     11\u001b[0m   \u001b[0;32mreturn\u001b[0m \u001b[0mnout\u001b[0m\u001b[0;34m\u001b[0m\u001b[0;34m\u001b[0m\u001b[0m\n",
            "\u001b[0;31mKeyboardInterrupt\u001b[0m: "
          ]
        }
      ]
    },
    {
      "cell_type": "markdown",
      "metadata": {
        "id": "vWk1PPk3Zkau"
      },
      "source": [
        "## Exercise 3: Something new... (EC)\n",
        "*(Extra credit: 5 points)*\n"
      ]
    },
    {
      "cell_type": "markdown",
      "metadata": {
        "id": "oY_z2XBsZkax"
      },
      "source": [
        "* **List of collaborators:**\n",
        "\n",
        "* **References you used in developing your code:**"
      ]
    },
    {
      "cell_type": "markdown",
      "metadata": {
        "id": "6YLtDzgMZkax"
      },
      "source": [
        "🦉Come up with something new and cool to do with this animation code.  Maybe try out some other interesting obstacles are add some friction to the walls or such."
      ]
    },
    {
      "cell_type": "markdown",
      "metadata": {
        "id": "WmLQ9vWTZkay"
      },
      "source": [
        "#### Answer:"
      ]
    },
    {
      "cell_type": "code",
      "metadata": {
        "id": "BqeoySeHZka1"
      },
      "source": [],
      "execution_count": null,
      "outputs": []
    },
    {
      "cell_type": "markdown",
      "metadata": {
        "id": "4I0yp2oDZka4"
      },
      "source": [
        "---\n",
        "**Copyright:** Byan Clark and Ryan Levy (2019)"
      ]
    }
  ]
}