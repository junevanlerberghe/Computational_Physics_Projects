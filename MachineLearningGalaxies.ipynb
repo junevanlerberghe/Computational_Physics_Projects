{
  "nbformat": 4,
  "nbformat_minor": 0,
  "metadata": {
    "colab": {
      "provenance": []
    },
    "kernelspec": {
      "display_name": "Python 3",
      "language": "python",
      "name": "python3"
    },
    "language_info": {
      "codemirror_mode": {
        "name": "ipython",
        "version": 3
      },
      "file_extension": ".py",
      "mimetype": "text/x-python",
      "name": "python",
      "nbconvert_exporter": "python",
      "pygments_lexer": "ipython3",
      "version": "3.8.5"
    },
    "varInspector": {
      "cols": {
        "lenName": 16,
        "lenType": 16,
        "lenVar": 40
      },
      "kernels_config": {
        "python": {
          "delete_cmd_postfix": "",
          "delete_cmd_prefix": "del ",
          "library": "var_list.py",
          "varRefreshCmd": "print(var_dic_list())"
        },
        "r": {
          "delete_cmd_postfix": ") ",
          "delete_cmd_prefix": "rm(",
          "library": "var_list.r",
          "varRefreshCmd": "cat(var_dic_list()) "
        }
      },
      "types_to_exclude": [
        "module",
        "function",
        "builtin_function_or_method",
        "instance",
        "_Feature"
      ],
      "window_display": false
    }
  },
  "cells": [
    {
      "cell_type": "markdown",
      "metadata": {
        "id": "XUbiO6tJDUd0"
      },
      "source": [
        "# Classifying Galaxies"
      ]
    },
    {
      "cell_type": "markdown",
      "metadata": {
        "id": "m3a-OVL9DUd1"
      },
      "source": [
        "* **Author:** June Vanlerberghe\n",
        "\n",
        "* **Date:** 12 November, 2020\n",
        "\n",
        "* **Time spent on this assignment:** 4 hours"
      ]
    },
    {
      "cell_type": "code",
      "metadata": {
        "id": "gGr-9PGiDUd2"
      },
      "source": [
        "import numpy as np\n",
        "import jax.numpy as jnp\n",
        "from jax import jit\n",
        "import  jax\n",
        "import matplotlib.pyplot as plt\n",
        "import math\n",
        "from matplotlib.animation import FuncAnimation\n",
        "import itertools\n",
        "from IPython.display import HTML\n",
        "import pickle\n",
        "import datetime;datetime.datetime.now()\n",
        "def resetMe(keepList=[]):\n",
        "    ll=%who_ls\n",
        "    keepList=keepList+['resetMe','np','plt','math','FuncAnimation',\n",
        "                       'HTML','itertools','pickle','testFunc','jnp','jax','jit']\n",
        "    for iiii in keepList:\n",
        "        if iiii in ll:\n",
        "            ll.remove(iiii)\n",
        "    for iiii in ll:\n",
        "        jjjj=\"^\"+iiii+\"$\"\n",
        "        %reset_selective -f {jjjj}\n",
        "    ll=%who_ls\n",
        "    return"
      ],
      "execution_count": null,
      "outputs": []
    },
    {
      "cell_type": "markdown",
      "metadata": {
        "id": "A1tJ_zaBDUeA"
      },
      "source": [
        "## Exercise 1: Machine Learning on Galaxies"
      ]
    },
    {
      "cell_type": "markdown",
      "metadata": {
        "id": "AHYdh_QJDUeB"
      },
      "source": [
        "* **List of collaborators:** Mit, Tathagata\n",
        "\n",
        "* **References you used in developing your code:** None"
      ]
    },
    {
      "cell_type": "markdown",
      "metadata": {
        "id": "KYRbLzi7DUeC"
      },
      "source": [
        "In this assignment, we are going to learn how to automatically classify galaxies using a deep neural network. Our goal will be to take a picture of a galaxy and decide which category it falls into (disc, round, cigar shape, etc).\n",
        "\n",
        "We are going to get the pictures of our galaxies from the Sloan Digital Sky Survey and the labels from the Galaxy Zoo (where the public hand-categorizes the galaxies).  We will then write and train a neural network to do this classification. Our goal is to be at least 66% accuracy (one can do much better but it requires more work then is reasonable for this assignment)."
      ]
    },
    {
      "cell_type": "markdown",
      "metadata": {
        "id": "iDhe6RGGDUeD"
      },
      "source": [
        "Let's start by reading in the data. Run the following command to download a copy of the data we'll need"
      ]
    },
    {
      "cell_type": "code",
      "metadata": {
        "id": "GUtxYJ9MDUeE",
        "outputId": "ce5a62ec-bc93-4a80-c4f7-57585605887b",
        "colab": {
          "base_uri": "https://localhost:8080/"
        }
      },
      "source": [
        "!wget https://courses.physics.illinois.edu/phys246/fa2020/code/dataG.pkl.gz"
      ],
      "execution_count": null,
      "outputs": [
        {
          "output_type": "stream",
          "text": [
            "--2020-11-12 20:54:06--  https://courses.physics.illinois.edu/phys246/fa2020/code/dataG.pkl.gz\n",
            "Resolving courses.physics.illinois.edu (courses.physics.illinois.edu)... 130.126.151.14\n",
            "Connecting to courses.physics.illinois.edu (courses.physics.illinois.edu)|130.126.151.14|:443... connected.\n",
            "HTTP request sent, awaiting response... 200 OK\n",
            "Length: 84647509 (81M) [application/x-gzip]\n",
            "Saving to: ‘dataG.pkl.gz’\n",
            "\n",
            "dataG.pkl.gz        100%[===================>]  80.73M  52.3MB/s    in 1.5s    \n",
            "\n",
            "2020-11-12 20:54:07 (52.3 MB/s) - ‘dataG.pkl.gz’ saved [84647509/84647509]\n",
            "\n"
          ],
          "name": "stdout"
        }
      ]
    },
    {
      "cell_type": "markdown",
      "metadata": {
        "id": "zVT_xa2UDUeT"
      },
      "source": [
        "Now we'll unpack it to the format we need"
      ]
    },
    {
      "cell_type": "code",
      "metadata": {
        "id": "FBdYa3bTDUeU",
        "outputId": "af33266e-4012-4e64-9732-7d258f4e4e94",
        "colab": {
          "base_uri": "https://localhost:8080/"
        }
      },
      "source": [
        "%%time\n",
        "import gzip\n",
        "(train_images_raw,train_labels,test_images_raw,test_labels) = pickle.load(gzip.open(\"dataG.pkl.gz\",'rb'))"
      ],
      "execution_count": null,
      "outputs": [
        {
          "output_type": "stream",
          "text": [
            "CPU times: user 1.93 s, sys: 508 ms, total: 2.44 s\n",
            "Wall time: 2.45 s\n"
          ],
          "name": "stdout"
        }
      ]
    },
    {
      "cell_type": "markdown",
      "metadata": {
        "id": "sttStxnODUed"
      },
      "source": [
        "here's what you now have:\n",
        "* `train_images_raw` - images in the training set, shape: (17457, 69, 69, 1)\n",
        "* `train_labels`     - labels that explain the image classification for the training set\n",
        "* `test_images_raw`  - images for the test set, shape: (1940,69,69,1)\n",
        "* `test_labels`      - labels that explain the image classification for the test set"
      ]
    },
    {
      "cell_type": "markdown",
      "metadata": {
        "id": "SAk1fTVfDUee"
      },
      "source": [
        "### A Note on the data"
      ]
    },
    {
      "cell_type": "markdown",
      "metadata": {
        "id": "H0Gyw_HnDUef"
      },
      "source": [
        "The original data has 3 channels - g,r,i bands - while this dataset has only 1 (g). This set also only includes a subset of labels.\n",
        "\n",
        "Why? Because we don't want to overwelm the server with large storage for each student. You are welcome to redo this assignment on Google colab with the full channel set and see how well it does; you'll need to download the full data we've provided:\n",
        "```python\n",
        "!wget https://courses.physics.illinois.edu/phys246/fa2020/code/data.pkl.zip\n",
        "!unzip data.pkl.zip\n",
        "(train_images_raw,train_labels,test_images_raw,test_labels) = pickle.load(open(\"data.pkl\",'rb'))\n",
        "```\n",
        "\n",
        "and then change the reshape commands below. See Exercise 2 to do this for extra credit; feel free to reach out to us for help."
      ]
    },
    {
      "cell_type": "markdown",
      "metadata": {
        "id": "o87oKypLDUeg"
      },
      "source": [
        "### a. Galaxies"
      ]
    },
    {
      "cell_type": "markdown",
      "metadata": {
        "id": "74Yt62jgDUei"
      },
      "source": [
        "Let's now examine this data a bit.  We are first going to look at the training data.  The training data is what you are going to use to teach your neural network.  The test data is to check how good we are doing after (possibly during) training.  We won't use it to train, though (this is to avoid overfitting; we want our neural network to learn how to classify galaxies but not memorize everything in the training set)."
      ]
    },
    {
      "cell_type": "markdown",
      "metadata": {
        "id": "BvbqsGh1DUej"
      },
      "source": [
        "We will start by plotting some of the galaxy images that we have loaded.  Do `plt.matshow(train_imagesP[0][:,:,0])` (This last `[:,:,0]` is because there are three layers to each of these galaxies and we just want to see the first layer. We've actually only included this first layer for you to save space, but if you want to use the full data this is necessary)"
      ]
    },
    {
      "cell_type": "code",
      "metadata": {
        "id": "YQZLoJCtlrIh"
      },
      "source": [],
      "execution_count": null,
      "outputs": []
    },
    {
      "cell_type": "code",
      "metadata": {
        "id": "Dy3jgjtPDUek",
        "outputId": "2314247a-3f18-43e1-efb6-1db7732ea968",
        "colab": {
          "base_uri": "https://localhost:8080/",
          "height": 292
        }
      },
      "source": [
        "#plot me here!//\n",
        "plt.matshow(train_images_raw[0][:,:,0])"
      ],
      "execution_count": null,
      "outputs": [
        {
          "output_type": "execute_result",
          "data": {
            "text/plain": [
              "<matplotlib.image.AxesImage at 0x7ff4a9bddba8>"
            ]
          },
          "metadata": {
            "tags": []
          },
          "execution_count": 4
        },
        {
          "output_type": "display_data",
          "data": {
            "image/png": "[encoded data removed]",
            "text/plain": [
              "<Figure size 288x288 with 1 Axes>"
            ]
          },
          "metadata": {
            "tags": []
          }
        }
      ]
    },
    {
      "cell_type": "markdown",
      "metadata": {
        "id": "QtxBB1e0DUep"
      },
      "source": [
        "You should see a galaxy.  Now, let's see what this galaxy should be classified as.  Go ahead and print out `train_labels[0]`.\n"
      ]
    },
    {
      "cell_type": "code",
      "metadata": {
        "id": "qYz7suDIDUer",
        "outputId": "0d7b7592-97c0-401e-b39a-542a793066ef",
        "colab": {
          "base_uri": "https://localhost:8080/"
        }
      },
      "source": [
        "## print out the label\n",
        "print(train_labels[0])"
      ],
      "execution_count": null,
      "outputs": [
        {
          "output_type": "stream",
          "text": [
            "[0. 0. 1. 0. 0.]\n"
          ],
          "name": "stdout"
        }
      ]
    },
    {
      "cell_type": "markdown",
      "metadata": {
        "id": "PtwFmYtiDUe3"
      },
      "source": [
        "Note that it has a `1` in the third place.  This tells us that this is a smooth in-between round galaxy. (the ordering is  [here](https://astronn.readthedocs.io/en/latest/galaxy10.html)).\n",
        "\n",
        "```\n",
        "Galaxy10 dataset (25753 images)\n",
        "├── *0* Class 0 (3461 images): Disk, Face-on, No Spiral\n",
        "├── *1* Class 1 (6997 images): Smooth, Completely round\n",
        "├── *2* Class 2 (6292 images): Smooth, in-between round\n",
        "├── Class 3 (394 images): Smooth, Cigar shaped\n",
        "├── *3* Class 4 (3060 images): Disk, Edge-on, Rounded Bulge\n",
        "├── Class 5 (17 images): Disk, Edge-on, Boxy Bulge\n",
        "├── Class 6 (1089 images): Disk, Edge-on, No Bulge\n",
        "├── *4* Class 7 (1932 images): Disk, Face-on, Tight Spiral\n",
        "├── Class 8 (1466 images): Disk, Face-on, Medium Spiral\n",
        "└── Class 9 (1045 images): Disk, Face-on, Loose Spiral\n",
        "```\n",
        "![Galaxy10 dataset](https://astronn.readthedocs.io/en/latest/_images/galaxy10_example.png)"
      ]
    },
    {
      "cell_type": "markdown",
      "metadata": {
        "id": "ctMfBpCcDUe3"
      },
      "source": [
        "We are going to use 5 sets, which are indicated with the `*#*`"
      ]
    },
    {
      "cell_type": "markdown",
      "metadata": {
        "id": "4JjbvXLKDUe4"
      },
      "source": [
        "Let's instead display the image and label for image 98. We see that instead this is a disk galaxy"
      ]
    },
    {
      "cell_type": "code",
      "metadata": {
        "id": "86zCjdsvDUe4",
        "outputId": "b5a07a83-c8c0-4cf7-fc64-5c1fe1ccc7cb",
        "colab": {
          "base_uri": "https://localhost:8080/",
          "height": 292
        }
      },
      "source": [
        "plt.matshow(train_images_raw[98][:,:,0])\n",
        "print(train_labels[98])"
      ],
      "execution_count": null,
      "outputs": [
        {
          "output_type": "stream",
          "text": [
            "[1. 0. 0. 0. 0.]\n"
          ],
          "name": "stdout"
        },
        {
          "output_type": "display_data",
          "data": {
            "image/png": "[encoded data removed]",
            "text/plain": [
              "<Figure size 288x288 with 1 Axes>"
            ]
          },
          "metadata": {
            "tags": []
          }
        }
      ]
    },
    {
      "cell_type": "markdown",
      "metadata": {
        "id": "rl2u3ExoDUe8"
      },
      "source": [
        "Let's check the shape of our data.  Go ahead and print out `np.shape(train_images_raw))`"
      ]
    },
    {
      "cell_type": "code",
      "metadata": {
        "id": "DsBD4RQxDUe9",
        "outputId": "14c51013-c119-40fe-86a2-5f4857dd2ed0",
        "colab": {
          "base_uri": "https://localhost:8080/"
        }
      },
      "source": [
        "print(np.shape(train_images_raw))"
      ],
      "execution_count": null,
      "outputs": [
        {
          "output_type": "stream",
          "text": [
            "(17457, 69, 69, 1)\n"
          ],
          "name": "stdout"
        }
      ]
    },
    {
      "cell_type": "markdown",
      "metadata": {
        "id": "E3A6oE09DUfA"
      },
      "source": [
        "We have 17457 images.  Each image is a $69 \\times 69 \\times 1$ image.  We are going to give these pictures as inputs to our neural network.  It will be easier to give them a big $69 \\times 69 \\times 1$ vector then a tensor like this.  Therefore, we should go ahead and reshape our data.  To do this, we can do `train_images=train_images_raw.reshape(len(train_images_raw),69*69*1)`  (Do the same thing for our `test_images_raw data`).  **You also need to normalize the image data so it's between 0 and 1.  To do that divide all your vectors by 256**"
      ]
    },
    {
      "cell_type": "code",
      "metadata": {
        "id": "BwiMLx6zDUfA"
      },
      "source": [
        "train_images = train_images_raw.reshape(len(train_images_raw),69*69*1)\n",
        "train_images = train_images/256\n",
        "\n",
        "test_images = test_images_raw.reshape(len(test_images_raw),69*69*1)\n",
        "test_images = test_images/256"
      ],
      "execution_count": null,
      "outputs": []
    },
    {
      "cell_type": "markdown",
      "metadata": {
        "id": "58DX4qvEDUfD"
      },
      "source": [
        "We will work with these reshaped vectors for most the rest of this assignment.\n",
        "\n",
        "\n"
      ]
    },
    {
      "cell_type": "markdown",
      "metadata": {
        "id": "SexcEpHLDUfD"
      },
      "source": [
        "### b. Neural Network"
      ]
    },
    {
      "cell_type": "markdown",
      "metadata": {
        "id": "MGeB_uFaDUfE"
      },
      "source": [
        "<img src=\"http://courses.physics.illinois.edu/phys246/fa2020/code/images/NN.png\" width=\"700px\" />  "
      ]
    },
    {
      "cell_type": "markdown",
      "metadata": {
        "id": "h9lqZx_XDUfE"
      },
      "source": [
        "Our next step is to write a neural network.   A neural network might sound complicated but it's actually really simple.  All our neural network does is take the input vector (our reshaped image) to an output vector (of size 5 because we have five different ways to classify a galaxy).  \n",
        "\n",
        "The equation for how to do this is\n",
        " $v_{out} = 1.0/(1+\\exp(-(W_2 \\textrm{tanh}(W_1 v_{in} + b_1) +b_2))$\n",
        "where\n",
        "* W1 is a size 27648 x d matrix\n",
        "* W2 is a size d x 5 matrix\n",
        "* b1 is a size d vector\n",
        "* b2 is a size 5 vector\n",
        "\n",
        "The last term: $1/(1+e^{-x})$ ensures that all the numbers in $v_{out}$ are between 0 and 1.\n",
        "\n",
        "Implement a function\n",
        "```python\n",
        "def net(params,imageVector):\n",
        "   # W1=params[0]\n",
        "   # b1=params[1]\n",
        "   # W2= params[2]\n",
        "   # b2 = params[3]\n",
        "   return output\n",
        "```\n",
        "where params is a list that contains these parameters and `imageVector` is one of our reshaped images.\n",
        "\n",
        "\n",
        "Let's test this out.  Generate a set of random parameters that have the correct dimension (for example to do this I used `0.1*np.random.randn(5,d)` for W2).   Then call `net(params,train_images[3])` and you should get what your current neural network guesses is the classification for the \"3'rd\" galaxy.  Use $d=100$.\n",
        "\n",
        "**Grading Note:** You should have no `for` loops in the `net` function. Any `for` loops will incur a 1 point penalty."
      ]
    },
    {
      "cell_type": "code",
      "metadata": {
        "id": "yFKWGPixjglQ"
      },
      "source": [],
      "execution_count": null,
      "outputs": []
    },
    {
      "cell_type": "code",
      "metadata": {
        "id": "LRRvbBdKDUfF",
        "outputId": "c01cf28b-a823-4798-a4d7-2fb415055b19",
        "colab": {
          "base_uri": "https://localhost:8080/"
        }
      },
      "source": [
        "## write and run your neural network\n",
        "d = 100\n",
        "def net(params, imageVector):\n",
        "  W1 = jnp.array(params[0])\n",
        "  b1 = jnp.array(params[1])\n",
        "  W2 = jnp.array(params[2])\n",
        "  b2 = jnp.array(params[3])\n",
        "  return 1.0/(1.0+jnp.e**(-(W2@jnp.tanh(W1@imageVector + b1) + b2)))\n",
        "\n",
        "params = [0.1*np.random.randn(d, 4761), 0.1*np.random.randn(d), 0.1*np.random.randn(5, d), 0.1*np.random.randn(5)]\n",
        "print(net(params, train_images[3]))"
      ],
      "execution_count": null,
      "outputs": [
        {
          "output_type": "stream",
          "text": [
            "[0.70949745 0.40470618 0.87008196 0.6232207  0.21210076]\n"
          ],
          "name": "stdout"
        }
      ]
    },
    {
      "cell_type": "markdown",
      "metadata": {
        "id": "jiRd9UQTDUfI"
      },
      "source": [
        "Notice that the output isn't a nice vector like `[0,0,0,0,1]`. Instead, it has five different numbers between zero and one such as `[0.28119904, 0.32086822, 0.6011591 , 0.38385248, 0.24312912]`  We will say that the neural network classifies the galaxy by whichever index is largest i.e. `np.argmax(outputVector)`. In this case it is the 0.6011591 which corresponds to spot 3 or _\"Smooth, in-between round\"_ category.  "
      ]
    },
    {
      "cell_type": "markdown",
      "metadata": {
        "id": "d8GpsFm_DUfJ"
      },
      "source": [
        "Once you have it working, congrats! You've implemented a 1 layer feed forward neural network using a $\\tanh$ activation function."
      ]
    },
    {
      "cell_type": "markdown",
      "metadata": {
        "id": "Git7G77DDUfJ"
      },
      "source": [
        "### c. A measure of goodness"
      ]
    },
    {
      "cell_type": "markdown",
      "metadata": {
        "id": "SwRD0rU5DUfK"
      },
      "source": [
        "To quantify how good our neural network is, we will use two things:\n",
        "\n",
        "(1) **Cross-entropy**\n",
        "Let's quantify how far off you are from the expected label (maybe it's `[0,0,0,1,0]`) . A good way to quantify this is to use the cross entropy.  The cross-entropy is defined as\n",
        "$$ \\sum_i -y_i \\log(a_i) - (1-y_i)\\log(1-a_i)$$\n",
        "where $y_i$ is the $i'$th component of the exact label and $a_i$ is the $i'$th component of the label you get as output from the neural network.  \n",
        "\n",
        "Write a function\n",
        "`loss(params, imageVector, correctLabel)` that takes the parameters and the `imageVector`, runs the neural network to get the output `a` (i.e. `a=net(params,imageVector)`) and then returns the cross entropy.  Check the cross entropy you are getting. Our goal will be to minimize this cross entropy (if we do this, then our network will do a better job of getting the correct galaxy classification)\n"
      ]
    },
    {
      "cell_type": "markdown",
      "metadata": {
        "id": "pZ-m2LvYDUfK"
      },
      "source": [
        "```python\n",
        "@jit\n",
        "def loss(params, imageVector, correctLabel):\n",
        "    '''\n",
        "    returns cross entropy of imageVector output from the neural network compared to the correctLabel\n",
        "    '''\n",
        "    \n",
        "    return cross_entropy\n",
        "i=0\n",
        "print(loss(params,train_images[i],train_labels[i]))\n",
        "```"
      ]
    },
    {
      "cell_type": "code",
      "metadata": {
        "id": "vzpujC2gDUfL",
        "outputId": "dffe3049-1936-4b3c-edac-059df388894b",
        "colab": {
          "base_uri": "https://localhost:8080/"
        }
      },
      "source": [
        "def loss(params, imageVector, correctLabel):\n",
        "  net_result = net(params, imageVector)\n",
        "  cross_entropy = 0\n",
        "  for i in range(5):\n",
        "    cross_entropy += -correctLabel[i]*jnp.log(net_result[i]) - (1.0 - correctLabel[i])*jnp.log(1.0 - net_result[i])\n",
        "  return cross_entropy\n",
        "\n",
        "i = 0\n",
        "print(loss(params, train_images[i], train_labels[i]))"
      ],
      "execution_count": null,
      "outputs": [
        {
          "output_type": "stream",
          "text": [
            "4.0825963\n"
          ],
          "name": "stdout"
        }
      ]
    },
    {
      "cell_type": "markdown",
      "metadata": {
        "id": "ICUGzBjDDUfN"
      },
      "source": [
        "(2) **Correct classification**\n",
        "In addition to the cross-entropy, we care whether the winning labelling is correct. We will say that we've labelled it correctly if in our length 5 vector, the maximum value is where the 1 should be.  Write a function `def fractionCorrect(params,images,labels)` that says what fraction you got correct. (`np.argmax` is probably useful here).  Run this on your test images and labels."
      ]
    },
    {
      "cell_type": "markdown",
      "metadata": {
        "id": "vhG8UCSGDUfO"
      },
      "source": [
        "```python\n",
        "def fractionCorrect(params,images,labels):\n",
        "    '''\n",
        "    takes in params for a neural net and image,label lists\n",
        "    and computes the fraction of correct label outputs\n",
        "    '''\n",
        "    return frac\n",
        "print(fractionCorrect(params,test_images,test_labels))\n",
        "```"
      ]
    },
    {
      "cell_type": "code",
      "metadata": {
        "id": "obgpRYbSDUfO",
        "outputId": "fa3e3f21-7478-4456-c582-0bf1d9688de0",
        "colab": {
          "base_uri": "https://localhost:8080/"
        }
      },
      "source": [
        "def fractionCorrect(params, images, labels):\n",
        "  correct = 0\n",
        "  for i in range(len(images)):\n",
        "    net_result = net(params, images[i])\n",
        "    max_spot = np.argmax(net_result)\n",
        "    if (max_spot == np.argmax(labels[i])):\n",
        "      correct += 1\n",
        "  frac = correct/len(images)\n",
        "  return frac\n",
        "\n",
        "print(fractionCorrect(params, test_images, test_labels))"
      ],
      "execution_count": null,
      "outputs": [
        {
          "output_type": "stream",
          "text": [
            "0.2684804928131417\n"
          ],
          "name": "stdout"
        }
      ]
    },
    {
      "cell_type": "markdown",
      "metadata": {
        "id": "tw40b_NWDUfS"
      },
      "source": [
        "You probably got about 30% correct with your random values of `w1,b1,w2,b2`. Now we have to do better.  We are going to work on getting our loss down (and this will get our fractionCorrect down).  Getting the loss down is easier because it depends continuously on the parameters).  \n",
        "\n",
        "To make an objective function better, what we should do is to step in a direction where it gets better.  To do this, we are going to want to get the gradient.  We can use jax to get the gradient as we have in earlier assignments.  \n",
        "\n",
        "Let's define the gradient of the loss as\n",
        "`loss_grad = jit(jax.grad(jit(loss)))`.  (The `jit` are there to make things faster.  This is morally just `jax.grad(loss)` and that would work albeit be slower).  \n",
        "\n"
      ]
    },
    {
      "cell_type": "markdown",
      "metadata": {
        "id": "vXdR0Dh8DUfT"
      },
      "source": [
        "### d. Classification"
      ]
    },
    {
      "cell_type": "markdown",
      "metadata": {
        "id": "LLluqr1mDUfT"
      },
      "source": [
        "Now all we need to do is to (over and over again)\n",
        "* choose a random image in the **training** set.\n",
        "* compute the gradient\n",
        "* change the parameters by 0.1% of the gradient (called the *learning rate* $\\eta$)\n",
        "\n",
        "This will make your result on this image marginally better.\n",
        "\n",
        "Every 2000 steps you might want to check the fraction of your test set that is now correct. Print it out as well as push it to a list.  You should find that your accuracy rises from 30% beyond 66%.  Plot your accuracy as a function of step for at least 50\\*2000, and if patient out to 100\\*2000."
      ]
    },
    {
      "cell_type": "code",
      "metadata": {
        "id": "1kX7ql4fDUfU",
        "scrolled": true,
        "outputId": "8ce032e8-4fa5-411b-8ce4-066c8fffef32",
        "colab": {
          "base_uri": "https://localhost:8080/",
          "height": 278
        }
      },
      "source": [
        "\n",
        "loss_grad = jit(jax.grad((jit(loss))))\n",
        "fracs = []\n",
        "steps = []\n",
        "for i in range(10*2000):\n",
        "  r = np.random.randint(len(test_images))\n",
        "  grad_val = loss_grad(params, test_images[r], test_labels[r])\n",
        "  params[0] += grad_val[-1][-1]*0.001\n",
        "  params[1] += grad_val[-1][-1]*0.001\n",
        "  params[2] += grad_val[-1][-1]*0.001\n",
        "  params[3] += grad_val[-1][-1]*0.001\n",
        "\n",
        "  if (i%2000 == 0):\n",
        "    steps.append(i)\n",
        "    fracs.append(fractionCorrect(params, test_images, test_labels))\n",
        "\n",
        "plt.plot(steps, fracs)\n",
        "plt.xlabel('steps')\n",
        "plt.ylabel('Fraction Correct')\n",
        "plt.title('Steps vs Fraction Correct')\n",
        "plt.show()"
      ],
      "execution_count": null,
      "outputs": [
        {
          "output_type": "display_data",
          "data": {
            "image/png": "[encoded data removed]",
            "text/plain": [
              "<Figure size 432x288 with 1 Axes>"
            ]
          },
          "metadata": {
            "tags": [],
            "needs_background": "light"
          }
        }
      ]
    },
    {
      "cell_type": "markdown",
      "metadata": {
        "id": "xWG6tUsHeQvi"
      },
      "source": [
        "I'm not entirely sure what's going wrong here, but I sadly didn't have enough time to figure it out this week :(. Also, this code is taking about 5 or more minutes to run each time, I couldn't even run it for 50*2000 so I'm not sure if that had to do with something in my code being wrong or my computer being slow or somethning."
      ]
    },
    {
      "cell_type": "code",
      "metadata": {
        "id": "SBw1CpSoDUfX"
      },
      "source": [
        ""
      ],
      "execution_count": null,
      "outputs": []
    },
    {
      "cell_type": "markdown",
      "metadata": {
        "id": "Qw8gcC6cDUfa"
      },
      "source": [
        "Explore a couple images and see how the your neural network classifies it.  Also, it might be fun to go ahead and look at the ones that it classifies incorrectly whether its second choice was correct.  You can go ahead and explictily check this by looping over everything and collecting some statistics."
      ]
    },
    {
      "cell_type": "markdown",
      "metadata": {
        "id": "erNh6VfkDUfb"
      },
      "source": [
        "### e.  Mini-batches and vmap (Extra Credit: 5 points)"
      ]
    },
    {
      "cell_type": "markdown",
      "metadata": {
        "id": "OYwqfVGXDUfb"
      },
      "source": [
        "We computed the gradient and took a step after every image.  It is better to average the gradient over some number (say ten) images and then take a step.  This is called a mini-batch.  Write some code to do mini-batches by just looping over ten images.  Then improve your code by figuring out to remove the extra loop and use `jax.vmap`  \n",
        "\n",
        "[jax docs link 1](https://jax.readthedocs.io/en/latest/notebooks/quickstart.html#Auto-vectorization-with-vmap)  \n",
        "[jax docs link 2](https://jax.readthedocs.io/en/latest/jax.html#jax.vmap)  "
      ]
    },
    {
      "cell_type": "code",
      "metadata": {
        "id": "f5CRlCANDUfc"
      },
      "source": [],
      "execution_count": null,
      "outputs": []
    },
    {
      "cell_type": "code",
      "metadata": {
        "id": "-wV19-K-DUfg"
      },
      "source": [],
      "execution_count": null,
      "outputs": []
    },
    {
      "cell_type": "markdown",
      "metadata": {
        "id": "SgcaDnIJDUfk"
      },
      "source": [
        "# Exercise 2 (EC)\n",
        "\n",
        "**Note** This will be slow/hard on PrairieLearn\n",
        "\n",
        "For the extra credit, you'll need to work with the entire dataset.  \n",
        "Download the entire dataset:\n",
        "```\n",
        "!wget https://courses.physics.illinois.edu/phys246/fa2020/code/data.pkl.zip\n",
        "!unzip data.pkl.zip\n",
        "(train_images_raw,train_labels,test_images_raw,test_labels) = pickle.load(open(\"data.pkl\",'rb'))\n",
        "```"
      ]
    },
    {
      "cell_type": "markdown",
      "metadata": {
        "id": "niUU-lfADUfl"
      },
      "source": [
        "### Train and Optimize\n",
        "*5 points*  \n",
        "\n",
        "Repeat the reshaping and training on the entire dataset. Show that your fraction correct rises to reasonable level after training."
      ]
    },
    {
      "cell_type": "code",
      "metadata": {
        "id": "QxtQGIhdDUfl"
      },
      "source": [],
      "execution_count": null,
      "outputs": []
    },
    {
      "cell_type": "markdown",
      "metadata": {
        "id": "aSBzaCFZDUfo"
      },
      "source": [
        "### 2 Layers\n",
        "*5 points*\n",
        "\n",
        "The neural network we used before had only a single layer. Add another (or two!) layers and train on the entire dataset."
      ]
    },
    {
      "cell_type": "code",
      "metadata": {
        "id": "GjYhuppaDUfo"
      },
      "source": [],
      "execution_count": null,
      "outputs": []
    },
    {
      "cell_type": "markdown",
      "metadata": {
        "id": "OJZq6THzDUfr"
      },
      "source": [
        "**Q:** How does your accuracy compare to a single layer? How does training compare?"
      ]
    },
    {
      "cell_type": "markdown",
      "metadata": {
        "id": "Qan6lGo9DUfu"
      },
      "source": [
        "**A:**"
      ]
    },
    {
      "cell_type": "markdown",
      "metadata": {
        "id": "o5dKpiP8DUfu"
      },
      "source": [
        "---\n",
        "© Copyright 2020\n",
        "\n",
        "Originally developed for Physics 246 by BKC and RL (2020)"
      ]
    },
    {
      "cell_type": "code",
      "metadata": {
        "id": "J99erRb9DUfv"
      },
      "source": [],
      "execution_count": null,
      "outputs": []
    }
  ]
}